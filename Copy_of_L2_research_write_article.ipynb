{
  "cells": [
    {
      "cell_type": "markdown",
      "metadata": {
        "id": "view-in-github",
        "colab_type": "text"
      },
      "source": [
        "<a href=\"https://colab.research.google.com/github/Jorayala/CiscoConnect_AI_Agents_101_Cancun_2025/blob/main/Copy_of_L2_research_write_article.ipynb\" target=\"_parent\"><img src=\"https://colab.research.google.com/assets/colab-badge.svg\" alt=\"Open In Colab\"/></a>"
      ]
    },
    {
      "cell_type": "code",
      "metadata": {
        "colab": {
          "base_uri": "https://localhost:8080/"
        },
        "id": "268792f5",
        "outputId": "573a7ac7-7373-49d1-dafd-97176e2ef6fc"
      },
      "source": [
        "!pip install crewai==0.28.8 crewai_tools==0.1.6 langchain_community==0.0.29"
      ],
      "execution_count": null,
      "outputs": [
        {
          "output_type": "stream",
          "name": "stdout",
          "text": [
            "Requirement already satisfied: crewai==0.28.8 in /usr/local/lib/python3.12/dist-packages (0.28.8)\n",
            "Requirement already satisfied: crewai_tools==0.1.6 in /usr/local/lib/python3.12/dist-packages (0.1.6)\n",
            "Requirement already satisfied: langchain_community==0.0.29 in /usr/local/lib/python3.12/dist-packages (0.0.29)\n",
            "Requirement already satisfied: appdirs<2.0.0,>=1.4.4 in /usr/local/lib/python3.12/dist-packages (from crewai==0.28.8) (1.4.4)\n",
            "Requirement already satisfied: click<9.0.0,>=8.1.7 in /usr/local/lib/python3.12/dist-packages (from crewai==0.28.8) (8.1.7)\n",
            "Requirement already satisfied: embedchain<0.2.0,>=0.1.98 in /usr/local/lib/python3.12/dist-packages (from crewai==0.28.8) (0.1.113)\n",
            "Requirement already satisfied: instructor<0.6.0,>=0.5.2 in /usr/local/lib/python3.12/dist-packages (from crewai==0.28.8) (0.5.2)\n",
            "Requirement already satisfied: langchain<0.2.0,>=0.1.10 in /usr/local/lib/python3.12/dist-packages (from crewai==0.28.8) (0.1.13)\n",
            "Requirement already satisfied: openai<2.0.0,>=1.13.3 in /usr/local/lib/python3.12/dist-packages (from crewai==0.28.8) (1.107.0)\n",
            "Requirement already satisfied: opentelemetry-api<2.0.0,>=1.22.0 in /usr/local/lib/python3.12/dist-packages (from crewai==0.28.8) (1.37.0)\n",
            "Requirement already satisfied: opentelemetry-exporter-otlp-proto-http<2.0.0,>=1.22.0 in /usr/local/lib/python3.12/dist-packages (from crewai==0.28.8) (1.37.0)\n",
            "Requirement already satisfied: opentelemetry-sdk<2.0.0,>=1.22.0 in /usr/local/lib/python3.12/dist-packages (from crewai==0.28.8) (1.37.0)\n",
            "Requirement already satisfied: pydantic<3.0.0,>=2.4.2 in /usr/local/lib/python3.12/dist-packages (from crewai==0.28.8) (2.11.7)\n",
            "Requirement already satisfied: python-dotenv==1.0.0 in /usr/local/lib/python3.12/dist-packages (from crewai==0.28.8) (1.0.0)\n",
            "Requirement already satisfied: regex<2024.0.0,>=2023.12.25 in /usr/local/lib/python3.12/dist-packages (from crewai==0.28.8) (2023.12.25)\n",
            "Requirement already satisfied: beautifulsoup4<5.0.0,>=4.12.3 in /usr/local/lib/python3.12/dist-packages (from crewai_tools==0.1.6) (4.13.5)\n",
            "Requirement already satisfied: chromadb<0.5.0,>=0.4.22 in /usr/local/lib/python3.12/dist-packages (from crewai_tools==0.1.6) (0.4.24)\n",
            "Requirement already satisfied: lancedb<0.6.0,>=0.5.4 in /usr/local/lib/python3.12/dist-packages (from crewai_tools==0.1.6) (0.5.7)\n",
            "Requirement already satisfied: pyright<2.0.0,>=1.1.350 in /usr/local/lib/python3.12/dist-packages (from crewai_tools==0.1.6) (1.1.405)\n",
            "Requirement already satisfied: pytest<9.0.0,>=8.0.0 in /usr/local/lib/python3.12/dist-packages (from crewai_tools==0.1.6) (8.4.2)\n",
            "Requirement already satisfied: pytube<16.0.0,>=15.0.0 in /usr/local/lib/python3.12/dist-packages (from crewai_tools==0.1.6) (15.0.0)\n",
            "Requirement already satisfied: requests<3.0.0,>=2.31.0 in /usr/local/lib/python3.12/dist-packages (from crewai_tools==0.1.6) (2.32.4)\n",
            "Requirement already satisfied: selenium<5.0.0,>=4.18.1 in /usr/local/lib/python3.12/dist-packages (from crewai_tools==0.1.6) (4.35.0)\n",
            "Requirement already satisfied: PyYAML>=5.3 in /usr/local/lib/python3.12/dist-packages (from langchain_community==0.0.29) (6.0.2)\n",
            "Requirement already satisfied: SQLAlchemy<3,>=1.4 in /usr/local/lib/python3.12/dist-packages (from langchain_community==0.0.29) (2.0.43)\n",
            "Requirement already satisfied: aiohttp<4.0.0,>=3.8.3 in /usr/local/lib/python3.12/dist-packages (from langchain_community==0.0.29) (3.12.15)\n",
            "Requirement already satisfied: dataclasses-json<0.7,>=0.5.7 in /usr/local/lib/python3.12/dist-packages (from langchain_community==0.0.29) (0.6.7)\n",
            "Requirement already satisfied: langchain-core<0.2.0,>=0.1.33 in /usr/local/lib/python3.12/dist-packages (from langchain_community==0.0.29) (0.1.53)\n",
            "Requirement already satisfied: langsmith<0.2.0,>=0.1.0 in /usr/local/lib/python3.12/dist-packages (from langchain_community==0.0.29) (0.1.147)\n",
            "Requirement already satisfied: numpy<2,>=1 in /usr/local/lib/python3.12/dist-packages (from langchain_community==0.0.29) (1.26.4)\n",
            "Requirement already satisfied: tenacity<9.0.0,>=8.1.0 in /usr/local/lib/python3.12/dist-packages (from langchain_community==0.0.29) (8.5.0)\n",
            "Requirement already satisfied: aiohappyeyeballs>=2.5.0 in /usr/local/lib/python3.12/dist-packages (from aiohttp<4.0.0,>=3.8.3->langchain_community==0.0.29) (2.6.1)\n",
            "Requirement already satisfied: aiosignal>=1.4.0 in /usr/local/lib/python3.12/dist-packages (from aiohttp<4.0.0,>=3.8.3->langchain_community==0.0.29) (1.4.0)\n",
            "Requirement already satisfied: attrs>=17.3.0 in /usr/local/lib/python3.12/dist-packages (from aiohttp<4.0.0,>=3.8.3->langchain_community==0.0.29) (25.3.0)\n",
            "Requirement already satisfied: frozenlist>=1.1.1 in /usr/local/lib/python3.12/dist-packages (from aiohttp<4.0.0,>=3.8.3->langchain_community==0.0.29) (1.7.0)\n",
            "Requirement already satisfied: multidict<7.0,>=4.5 in /usr/local/lib/python3.12/dist-packages (from aiohttp<4.0.0,>=3.8.3->langchain_community==0.0.29) (6.6.4)\n",
            "Requirement already satisfied: propcache>=0.2.0 in /usr/local/lib/python3.12/dist-packages (from aiohttp<4.0.0,>=3.8.3->langchain_community==0.0.29) (0.3.2)\n",
            "Requirement already satisfied: yarl<2.0,>=1.17.0 in /usr/local/lib/python3.12/dist-packages (from aiohttp<4.0.0,>=3.8.3->langchain_community==0.0.29) (1.20.1)\n",
            "Requirement already satisfied: soupsieve>1.2 in /usr/local/lib/python3.12/dist-packages (from beautifulsoup4<5.0.0,>=4.12.3->crewai_tools==0.1.6) (2.8)\n",
            "Requirement already satisfied: typing-extensions>=4.0.0 in /usr/local/lib/python3.12/dist-packages (from beautifulsoup4<5.0.0,>=4.12.3->crewai_tools==0.1.6) (4.14.1)\n",
            "Requirement already satisfied: build>=1.0.3 in /usr/local/lib/python3.12/dist-packages (from chromadb<0.5.0,>=0.4.22->crewai_tools==0.1.6) (1.3.0)\n",
            "Requirement already satisfied: chroma-hnswlib==0.7.3 in /usr/local/lib/python3.12/dist-packages (from chromadb<0.5.0,>=0.4.22->crewai_tools==0.1.6) (0.7.3)\n",
            "Requirement already satisfied: fastapi>=0.95.2 in /usr/local/lib/python3.12/dist-packages (from chromadb<0.5.0,>=0.4.22->crewai_tools==0.1.6) (0.116.1)\n",
            "Requirement already satisfied: uvicorn>=0.18.3 in /usr/local/lib/python3.12/dist-packages (from uvicorn[standard]>=0.18.3->chromadb<0.5.0,>=0.4.22->crewai_tools==0.1.6) (0.35.0)\n",
            "Requirement already satisfied: posthog>=2.4.0 in /usr/local/lib/python3.12/dist-packages (from chromadb<0.5.0,>=0.4.22->crewai_tools==0.1.6) (3.25.0)\n",
            "Requirement already satisfied: pulsar-client>=3.1.0 in /usr/local/lib/python3.12/dist-packages (from chromadb<0.5.0,>=0.4.22->crewai_tools==0.1.6) (3.8.0)\n",
            "Requirement already satisfied: onnxruntime>=1.14.1 in /usr/local/lib/python3.12/dist-packages (from chromadb<0.5.0,>=0.4.22->crewai_tools==0.1.6) (1.22.1)\n",
            "Requirement already satisfied: opentelemetry-exporter-otlp-proto-grpc>=1.2.0 in /usr/local/lib/python3.12/dist-packages (from chromadb<0.5.0,>=0.4.22->crewai_tools==0.1.6) (1.37.0)\n",
            "Requirement already satisfied: opentelemetry-instrumentation-fastapi>=0.41b0 in /usr/local/lib/python3.12/dist-packages (from chromadb<0.5.0,>=0.4.22->crewai_tools==0.1.6) (0.58b0)\n",
            "Requirement already satisfied: tokenizers>=0.13.2 in /usr/local/lib/python3.12/dist-packages (from chromadb<0.5.0,>=0.4.22->crewai_tools==0.1.6) (0.22.0)\n",
            "Requirement already satisfied: pypika>=0.48.9 in /usr/local/lib/python3.12/dist-packages (from chromadb<0.5.0,>=0.4.22->crewai_tools==0.1.6) (0.48.9)\n",
            "Requirement already satisfied: tqdm>=4.65.0 in /usr/local/lib/python3.12/dist-packages (from chromadb<0.5.0,>=0.4.22->crewai_tools==0.1.6) (4.67.1)\n",
            "Requirement already satisfied: overrides>=7.3.1 in /usr/local/lib/python3.12/dist-packages (from chromadb<0.5.0,>=0.4.22->crewai_tools==0.1.6) (7.7.0)\n",
            "Requirement already satisfied: importlib-resources in /usr/local/lib/python3.12/dist-packages (from chromadb<0.5.0,>=0.4.22->crewai_tools==0.1.6) (6.5.2)\n",
            "Requirement already satisfied: grpcio>=1.58.0 in /usr/local/lib/python3.12/dist-packages (from chromadb<0.5.0,>=0.4.22->crewai_tools==0.1.6) (1.74.0)\n",
            "Requirement already satisfied: bcrypt>=4.0.1 in /usr/local/lib/python3.12/dist-packages (from chromadb<0.5.0,>=0.4.22->crewai_tools==0.1.6) (4.3.0)\n",
            "Requirement already satisfied: typer>=0.9.0 in /usr/local/lib/python3.12/dist-packages (from chromadb<0.5.0,>=0.4.22->crewai_tools==0.1.6) (0.9.4)\n",
            "Requirement already satisfied: kubernetes>=28.1.0 in /usr/local/lib/python3.12/dist-packages (from chromadb<0.5.0,>=0.4.22->crewai_tools==0.1.6) (33.1.0)\n",
            "Requirement already satisfied: mmh3>=4.0.1 in /usr/local/lib/python3.12/dist-packages (from chromadb<0.5.0,>=0.4.22->crewai_tools==0.1.6) (5.2.0)\n",
            "Requirement already satisfied: orjson>=3.9.12 in /usr/local/lib/python3.12/dist-packages (from chromadb<0.5.0,>=0.4.22->crewai_tools==0.1.6) (3.11.3)\n",
            "Requirement already satisfied: marshmallow<4.0.0,>=3.18.0 in /usr/local/lib/python3.12/dist-packages (from dataclasses-json<0.7,>=0.5.7->langchain_community==0.0.29) (3.26.1)\n",
            "Requirement already satisfied: typing-inspect<1,>=0.4.0 in /usr/local/lib/python3.12/dist-packages (from dataclasses-json<0.7,>=0.5.7->langchain_community==0.0.29) (0.9.0)\n",
            "Requirement already satisfied: alembic<2.0.0,>=1.13.1 in /usr/local/lib/python3.12/dist-packages (from embedchain<0.2.0,>=0.1.98->crewai==0.28.8) (1.16.5)\n",
            "Requirement already satisfied: clarifai<11.0.0,>=10.0.1 in /usr/local/lib/python3.12/dist-packages (from embedchain<0.2.0,>=0.1.98->crewai==0.28.8) (10.11.1)\n",
            "Requirement already satisfied: google-cloud-aiplatform<2.0.0,>=1.26.1 in /usr/local/lib/python3.12/dist-packages (from embedchain<0.2.0,>=0.1.98->crewai==0.28.8) (1.111.0)\n",
            "Requirement already satisfied: gptcache<0.2.0,>=0.1.43 in /usr/local/lib/python3.12/dist-packages (from embedchain<0.2.0,>=0.1.98->crewai==0.28.8) (0.1.44)\n",
            "Requirement already satisfied: langchain-cohere<0.2.0,>=0.1.4 in /usr/local/lib/python3.12/dist-packages (from embedchain<0.2.0,>=0.1.98->crewai==0.28.8) (0.1.5)\n",
            "Requirement already satisfied: langchain-openai<0.2.0,>=0.1.7 in /usr/local/lib/python3.12/dist-packages (from embedchain<0.2.0,>=0.1.98->crewai==0.28.8) (0.1.7)\n",
            "Requirement already satisfied: pypdf<5.0.0,>=4.0.1 in /usr/local/lib/python3.12/dist-packages (from embedchain<0.2.0,>=0.1.98->crewai==0.28.8) (4.3.1)\n",
            "Requirement already satisfied: pysbd<0.4.0,>=0.3.4 in /usr/local/lib/python3.12/dist-packages (from embedchain<0.2.0,>=0.1.98->crewai==0.28.8) (0.3.4)\n",
            "Requirement already satisfied: rich<14.0.0,>=13.7.0 in /usr/local/lib/python3.12/dist-packages (from embedchain<0.2.0,>=0.1.98->crewai==0.28.8) (13.9.4)\n",
            "Requirement already satisfied: schema<0.8.0,>=0.7.5 in /usr/local/lib/python3.12/dist-packages (from embedchain<0.2.0,>=0.1.98->crewai==0.28.8) (0.7.5)\n",
            "Requirement already satisfied: tiktoken<0.8.0,>=0.7.0 in /usr/local/lib/python3.12/dist-packages (from embedchain<0.2.0,>=0.1.98->crewai==0.28.8) (0.7.0)\n",
            "Requirement already satisfied: PyGithub<2.0.0,>=1.59.1 in /usr/local/lib/python3.12/dist-packages (from embedchain[github,youtube]<0.2.0,>=0.1.85->crewai_tools==0.1.6) (1.59.1)\n",
            "Requirement already satisfied: gitpython<4.0.0,>=3.1.38 in /usr/local/lib/python3.12/dist-packages (from embedchain[github,youtube]<0.2.0,>=0.1.85->crewai_tools==0.1.6) (3.1.45)\n",
            "Requirement already satisfied: youtube-transcript-api<0.7.0,>=0.6.1 in /usr/local/lib/python3.12/dist-packages (from embedchain[github,youtube]<0.2.0,>=0.1.85->crewai_tools==0.1.6) (0.6.3)\n",
            "Requirement already satisfied: yt_dlp<2024.0.0,>=2023.11.14 in /usr/local/lib/python3.12/dist-packages (from embedchain[github,youtube]<0.2.0,>=0.1.85->crewai_tools==0.1.6) (2023.12.30)\n",
            "Requirement already satisfied: docstring-parser<0.16,>=0.15 in /usr/local/lib/python3.12/dist-packages (from instructor<0.6.0,>=0.5.2->crewai==0.28.8) (0.15)\n",
            "Requirement already satisfied: deprecation in /usr/local/lib/python3.12/dist-packages (from lancedb<0.6.0,>=0.5.4->crewai_tools==0.1.6) (2.1.0)\n",
            "Requirement already satisfied: pylance==0.9.18 in /usr/local/lib/python3.12/dist-packages (from lancedb<0.6.0,>=0.5.4->crewai_tools==0.1.6) (0.9.18)\n",
            "Requirement already satisfied: ratelimiter~=1.0 in /usr/local/lib/python3.12/dist-packages (from lancedb<0.6.0,>=0.5.4->crewai_tools==0.1.6) (1.2.0.post0)\n",
            "Requirement already satisfied: retry>=0.9.2 in /usr/local/lib/python3.12/dist-packages (from lancedb<0.6.0,>=0.5.4->crewai_tools==0.1.6) (0.9.2)\n",
            "Requirement already satisfied: semver>=3.0 in /usr/local/lib/python3.12/dist-packages (from lancedb<0.6.0,>=0.5.4->crewai_tools==0.1.6) (3.0.4)\n",
            "Requirement already satisfied: cachetools in /usr/local/lib/python3.12/dist-packages (from lancedb<0.6.0,>=0.5.4->crewai_tools==0.1.6) (5.5.2)\n",
            "Requirement already satisfied: pyarrow>=12 in /usr/local/lib/python3.12/dist-packages (from pylance==0.9.18->lancedb<0.6.0,>=0.5.4->crewai_tools==0.1.6) (18.1.0)\n",
            "Requirement already satisfied: jsonpatch<2.0,>=1.33 in /usr/local/lib/python3.12/dist-packages (from langchain<0.2.0,>=0.1.10->crewai==0.28.8) (1.33)\n",
            "Requirement already satisfied: langchain-text-splitters<0.1,>=0.0.1 in /usr/local/lib/python3.12/dist-packages (from langchain<0.2.0,>=0.1.10->crewai==0.28.8) (0.0.2)\n",
            "Requirement already satisfied: packaging<24.0,>=23.2 in /usr/local/lib/python3.12/dist-packages (from langchain-core<0.2.0,>=0.1.33->langchain_community==0.0.29) (23.2)\n",
            "Requirement already satisfied: httpx<1,>=0.23.0 in /usr/local/lib/python3.12/dist-packages (from langsmith<0.2.0,>=0.1.0->langchain_community==0.0.29) (0.28.1)\n",
            "Requirement already satisfied: requests-toolbelt<2.0.0,>=1.0.0 in /usr/local/lib/python3.12/dist-packages (from langsmith<0.2.0,>=0.1.0->langchain_community==0.0.29) (1.0.0)\n",
            "Requirement already satisfied: anyio<5,>=3.5.0 in /usr/local/lib/python3.12/dist-packages (from openai<2.0.0,>=1.13.3->crewai==0.28.8) (4.10.0)\n",
            "Requirement already satisfied: distro<2,>=1.7.0 in /usr/local/lib/python3.12/dist-packages (from openai<2.0.0,>=1.13.3->crewai==0.28.8) (1.9.0)\n",
            "Requirement already satisfied: jiter<1,>=0.4.0 in /usr/local/lib/python3.12/dist-packages (from openai<2.0.0,>=1.13.3->crewai==0.28.8) (0.10.0)\n",
            "Requirement already satisfied: sniffio in /usr/local/lib/python3.12/dist-packages (from openai<2.0.0,>=1.13.3->crewai==0.28.8) (1.3.1)\n",
            "Requirement already satisfied: importlib-metadata<8.8.0,>=6.0 in /usr/local/lib/python3.12/dist-packages (from opentelemetry-api<2.0.0,>=1.22.0->crewai==0.28.8) (8.7.0)\n",
            "Requirement already satisfied: googleapis-common-protos~=1.52 in /usr/local/lib/python3.12/dist-packages (from opentelemetry-exporter-otlp-proto-http<2.0.0,>=1.22.0->crewai==0.28.8) (1.70.0)\n",
            "Requirement already satisfied: opentelemetry-exporter-otlp-proto-common==1.37.0 in /usr/local/lib/python3.12/dist-packages (from opentelemetry-exporter-otlp-proto-http<2.0.0,>=1.22.0->crewai==0.28.8) (1.37.0)\n",
            "Requirement already satisfied: opentelemetry-proto==1.37.0 in /usr/local/lib/python3.12/dist-packages (from opentelemetry-exporter-otlp-proto-http<2.0.0,>=1.22.0->crewai==0.28.8) (1.37.0)\n",
            "Requirement already satisfied: protobuf<7.0,>=5.0 in /usr/local/lib/python3.12/dist-packages (from opentelemetry-proto==1.37.0->opentelemetry-exporter-otlp-proto-http<2.0.0,>=1.22.0->crewai==0.28.8) (5.29.5)\n",
            "Requirement already satisfied: opentelemetry-semantic-conventions==0.58b0 in /usr/local/lib/python3.12/dist-packages (from opentelemetry-sdk<2.0.0,>=1.22.0->crewai==0.28.8) (0.58b0)\n",
            "Requirement already satisfied: annotated-types>=0.6.0 in /usr/local/lib/python3.12/dist-packages (from pydantic<3.0.0,>=2.4.2->crewai==0.28.8) (0.7.0)\n",
            "Requirement already satisfied: pydantic-core==2.33.2 in /usr/local/lib/python3.12/dist-packages (from pydantic<3.0.0,>=2.4.2->crewai==0.28.8) (2.33.2)\n",
            "Requirement already satisfied: typing-inspection>=0.4.0 in /usr/local/lib/python3.12/dist-packages (from pydantic<3.0.0,>=2.4.2->crewai==0.28.8) (0.4.1)\n",
            "Requirement already satisfied: nodeenv>=1.6.0 in /usr/local/lib/python3.12/dist-packages (from pyright<2.0.0,>=1.1.350->crewai_tools==0.1.6) (1.9.1)\n",
            "Requirement already satisfied: iniconfig>=1 in /usr/local/lib/python3.12/dist-packages (from pytest<9.0.0,>=8.0.0->crewai_tools==0.1.6) (2.1.0)\n",
            "Requirement already satisfied: pluggy<2,>=1.5 in /usr/local/lib/python3.12/dist-packages (from pytest<9.0.0,>=8.0.0->crewai_tools==0.1.6) (1.6.0)\n",
            "Requirement already satisfied: pygments>=2.7.2 in /usr/local/lib/python3.12/dist-packages (from pytest<9.0.0,>=8.0.0->crewai_tools==0.1.6) (2.19.2)\n",
            "Requirement already satisfied: charset_normalizer<4,>=2 in /usr/local/lib/python3.12/dist-packages (from requests<3.0.0,>=2.31.0->crewai_tools==0.1.6) (3.4.3)\n",
            "Requirement already satisfied: idna<4,>=2.5 in /usr/local/lib/python3.12/dist-packages (from requests<3.0.0,>=2.31.0->crewai_tools==0.1.6) (3.10)\n",
            "Requirement already satisfied: urllib3<3,>=1.21.1 in /usr/local/lib/python3.12/dist-packages (from requests<3.0.0,>=2.31.0->crewai_tools==0.1.6) (2.5.0)\n",
            "Requirement already satisfied: certifi>=2017.4.17 in /usr/local/lib/python3.12/dist-packages (from requests<3.0.0,>=2.31.0->crewai_tools==0.1.6) (2025.8.3)\n",
            "Requirement already satisfied: trio~=0.30.0 in /usr/local/lib/python3.12/dist-packages (from selenium<5.0.0,>=4.18.1->crewai_tools==0.1.6) (0.30.0)\n",
            "Requirement already satisfied: trio-websocket~=0.12.2 in /usr/local/lib/python3.12/dist-packages (from selenium<5.0.0,>=4.18.1->crewai_tools==0.1.6) (0.12.2)\n",
            "Requirement already satisfied: websocket-client~=1.8.0 in /usr/local/lib/python3.12/dist-packages (from selenium<5.0.0,>=4.18.1->crewai_tools==0.1.6) (1.8.0)\n",
            "Requirement already satisfied: greenlet>=1 in /usr/local/lib/python3.12/dist-packages (from SQLAlchemy<3,>=1.4->langchain_community==0.0.29) (3.2.4)\n",
            "Requirement already satisfied: Mako in /usr/local/lib/python3.12/dist-packages (from alembic<2.0.0,>=1.13.1->embedchain<0.2.0,>=0.1.98->crewai==0.28.8) (1.3.10)\n",
            "Requirement already satisfied: pyproject_hooks in /usr/local/lib/python3.12/dist-packages (from build>=1.0.3->chromadb<0.5.0,>=0.4.22->crewai_tools==0.1.6) (1.2.0)\n",
            "Requirement already satisfied: clarifai-grpc>=10.11.2 in /usr/local/lib/python3.12/dist-packages (from clarifai<11.0.0,>=10.0.1->embedchain<0.2.0,>=0.1.98->crewai==0.28.8) (11.8.2)\n",
            "Requirement already satisfied: clarifai-protocol>=0.0.14 in /usr/local/lib/python3.12/dist-packages (from clarifai<11.0.0,>=10.0.1->embedchain<0.2.0,>=0.1.98->crewai==0.28.8) (0.0.14)\n",
            "Requirement already satisfied: tritonclient>=2.34.0 in /usr/local/lib/python3.12/dist-packages (from clarifai<11.0.0,>=10.0.1->embedchain<0.2.0,>=0.1.98->crewai==0.28.8) (2.60.0)\n",
            "Requirement already satisfied: Pillow>=9.5.0 in /usr/local/lib/python3.12/dist-packages (from clarifai<11.0.0,>=10.0.1->embedchain<0.2.0,>=0.1.98->crewai==0.28.8) (11.3.0)\n",
            "Requirement already satisfied: inquirerpy==0.3.4 in /usr/local/lib/python3.12/dist-packages (from clarifai<11.0.0,>=10.0.1->embedchain<0.2.0,>=0.1.98->crewai==0.28.8) (0.3.4)\n",
            "Requirement already satisfied: tabulate>=0.9.0 in /usr/local/lib/python3.12/dist-packages (from clarifai<11.0.0,>=10.0.1->embedchain<0.2.0,>=0.1.98->crewai==0.28.8) (0.9.0)\n",
            "Requirement already satisfied: fsspec==2024.6.1 in /usr/local/lib/python3.12/dist-packages (from clarifai<11.0.0,>=10.0.1->embedchain<0.2.0,>=0.1.98->crewai==0.28.8) (2024.6.1)\n",
            "Requirement already satisfied: contextlib2>=0.5.5 in /usr/local/lib/python3.12/dist-packages (from schema<0.8.0,>=0.7.5->embedchain<0.2.0,>=0.1.98->crewai==0.28.8) (21.6.0)\n",
            "Requirement already satisfied: pfzy<0.4.0,>=0.3.1 in /usr/local/lib/python3.12/dist-packages (from inquirerpy==0.3.4->clarifai<11.0.0,>=10.0.1->embedchain<0.2.0,>=0.1.98->crewai==0.28.8) (0.3.4)\n",
            "Requirement already satisfied: prompt-toolkit<4.0.0,>=3.0.1 in /usr/local/lib/python3.12/dist-packages (from inquirerpy==0.3.4->clarifai<11.0.0,>=10.0.1->embedchain<0.2.0,>=0.1.98->crewai==0.28.8) (3.0.52)\n",
            "Requirement already satisfied: starlette<0.48.0,>=0.40.0 in /usr/local/lib/python3.12/dist-packages (from fastapi>=0.95.2->chromadb<0.5.0,>=0.4.22->crewai_tools==0.1.6) (0.47.3)\n",
            "Requirement already satisfied: gitdb<5,>=4.0.1 in /usr/local/lib/python3.12/dist-packages (from gitpython<4.0.0,>=3.1.38->embedchain[github,youtube]<0.2.0,>=0.1.85->crewai_tools==0.1.6) (4.0.12)\n",
            "Requirement already satisfied: google-api-core!=2.0.*,!=2.1.*,!=2.2.*,!=2.3.*,!=2.4.*,!=2.5.*,!=2.6.*,!=2.7.*,<3.0.0,>=1.34.1 in /usr/local/lib/python3.12/dist-packages (from google-api-core[grpc]!=2.0.*,!=2.1.*,!=2.2.*,!=2.3.*,!=2.4.*,!=2.5.*,!=2.6.*,!=2.7.*,<3.0.0,>=1.34.1->google-cloud-aiplatform<2.0.0,>=1.26.1->embedchain<0.2.0,>=0.1.98->crewai==0.28.8) (2.25.1)\n",
            "Requirement already satisfied: google-auth<3.0.0,>=2.14.1 in /usr/local/lib/python3.12/dist-packages (from google-cloud-aiplatform<2.0.0,>=1.26.1->embedchain<0.2.0,>=0.1.98->crewai==0.28.8) (2.38.0)\n",
            "Requirement already satisfied: proto-plus<2.0.0,>=1.22.3 in /usr/local/lib/python3.12/dist-packages (from google-cloud-aiplatform<2.0.0,>=1.26.1->embedchain<0.2.0,>=0.1.98->crewai==0.28.8) (1.26.1)\n",
            "Requirement already satisfied: google-cloud-storage<3.0.0,>=1.32.0 in /usr/local/lib/python3.12/dist-packages (from google-cloud-aiplatform<2.0.0,>=1.26.1->embedchain<0.2.0,>=0.1.98->crewai==0.28.8) (2.19.0)\n",
            "Requirement already satisfied: google-cloud-bigquery!=3.20.0,<4.0.0,>=1.15.0 in /usr/local/lib/python3.12/dist-packages (from google-cloud-aiplatform<2.0.0,>=1.26.1->embedchain<0.2.0,>=0.1.98->crewai==0.28.8) (3.30.0)\n",
            "Requirement already satisfied: google-cloud-resource-manager<3.0.0,>=1.3.3 in /usr/local/lib/python3.12/dist-packages (from google-cloud-aiplatform<2.0.0,>=1.26.1->embedchain<0.2.0,>=0.1.98->crewai==0.28.8) (1.14.2)\n",
            "Requirement already satisfied: shapely<3.0.0 in /usr/local/lib/python3.12/dist-packages (from google-cloud-aiplatform<2.0.0,>=1.26.1->embedchain<0.2.0,>=0.1.98->crewai==0.28.8) (2.1.1)\n",
            "Requirement already satisfied: google-genai<2.0.0,>=1.0.0 in /usr/local/lib/python3.12/dist-packages (from google-cloud-aiplatform<2.0.0,>=1.26.1->embedchain<0.2.0,>=0.1.98->crewai==0.28.8) (1.34.0)\n",
            "Requirement already satisfied: httpcore==1.* in /usr/local/lib/python3.12/dist-packages (from httpx<1,>=0.23.0->langsmith<0.2.0,>=0.1.0->langchain_community==0.0.29) (1.0.9)\n",
            "Requirement already satisfied: h11>=0.16 in /usr/local/lib/python3.12/dist-packages (from httpcore==1.*->httpx<1,>=0.23.0->langsmith<0.2.0,>=0.1.0->langchain_community==0.0.29) (0.16.0)\n",
            "Requirement already satisfied: zipp>=3.20 in /usr/local/lib/python3.12/dist-packages (from importlib-metadata<8.8.0,>=6.0->opentelemetry-api<2.0.0,>=1.22.0->crewai==0.28.8) (3.23.0)\n",
            "Requirement already satisfied: jsonpointer>=1.9 in /usr/local/lib/python3.12/dist-packages (from jsonpatch<2.0,>=1.33->langchain<0.2.0,>=0.1.10->crewai==0.28.8) (3.0.0)\n",
            "Requirement already satisfied: six>=1.9.0 in /usr/local/lib/python3.12/dist-packages (from kubernetes>=28.1.0->chromadb<0.5.0,>=0.4.22->crewai_tools==0.1.6) (1.17.0)\n",
            "Requirement already satisfied: python-dateutil>=2.5.3 in /usr/local/lib/python3.12/dist-packages (from kubernetes>=28.1.0->chromadb<0.5.0,>=0.4.22->crewai_tools==0.1.6) (2.9.0.post0)\n",
            "Requirement already satisfied: requests-oauthlib in /usr/local/lib/python3.12/dist-packages (from kubernetes>=28.1.0->chromadb<0.5.0,>=0.4.22->crewai_tools==0.1.6) (2.0.0)\n",
            "Requirement already satisfied: oauthlib>=3.2.2 in /usr/local/lib/python3.12/dist-packages (from kubernetes>=28.1.0->chromadb<0.5.0,>=0.4.22->crewai_tools==0.1.6) (3.3.1)\n",
            "Requirement already satisfied: durationpy>=0.7 in /usr/local/lib/python3.12/dist-packages (from kubernetes>=28.1.0->chromadb<0.5.0,>=0.4.22->crewai_tools==0.1.6) (0.10)\n",
            "Requirement already satisfied: cohere<6.0,>=5.5 in /usr/local/lib/python3.12/dist-packages (from langchain-cohere<0.2.0,>=0.1.4->embedchain<0.2.0,>=0.1.98->crewai==0.28.8) (5.18.0)\n",
            "Requirement already satisfied: coloredlogs in /usr/local/lib/python3.12/dist-packages (from onnxruntime>=1.14.1->chromadb<0.5.0,>=0.4.22->crewai_tools==0.1.6) (15.0.1)\n",
            "Requirement already satisfied: flatbuffers in /usr/local/lib/python3.12/dist-packages (from onnxruntime>=1.14.1->chromadb<0.5.0,>=0.4.22->crewai_tools==0.1.6) (25.2.10)\n",
            "Requirement already satisfied: sympy in /usr/local/lib/python3.12/dist-packages (from onnxruntime>=1.14.1->chromadb<0.5.0,>=0.4.22->crewai_tools==0.1.6) (1.13.3)\n",
            "Requirement already satisfied: opentelemetry-instrumentation-asgi==0.58b0 in /usr/local/lib/python3.12/dist-packages (from opentelemetry-instrumentation-fastapi>=0.41b0->chromadb<0.5.0,>=0.4.22->crewai_tools==0.1.6) (0.58b0)\n",
            "Requirement already satisfied: opentelemetry-instrumentation==0.58b0 in /usr/local/lib/python3.12/dist-packages (from opentelemetry-instrumentation-fastapi>=0.41b0->chromadb<0.5.0,>=0.4.22->crewai_tools==0.1.6) (0.58b0)\n",
            "Requirement already satisfied: opentelemetry-util-http==0.58b0 in /usr/local/lib/python3.12/dist-packages (from opentelemetry-instrumentation-fastapi>=0.41b0->chromadb<0.5.0,>=0.4.22->crewai_tools==0.1.6) (0.58b0)\n",
            "Requirement already satisfied: wrapt<2.0.0,>=1.0.0 in /usr/local/lib/python3.12/dist-packages (from opentelemetry-instrumentation==0.58b0->opentelemetry-instrumentation-fastapi>=0.41b0->chromadb<0.5.0,>=0.4.22->crewai_tools==0.1.6) (1.17.3)\n",
            "Requirement already satisfied: asgiref~=3.0 in /usr/local/lib/python3.12/dist-packages (from opentelemetry-instrumentation-asgi==0.58b0->opentelemetry-instrumentation-fastapi>=0.41b0->chromadb<0.5.0,>=0.4.22->crewai_tools==0.1.6) (3.9.1)\n",
            "Requirement already satisfied: monotonic>=1.5 in /usr/local/lib/python3.12/dist-packages (from posthog>=2.4.0->chromadb<0.5.0,>=0.4.22->crewai_tools==0.1.6) (1.6)\n",
            "Requirement already satisfied: backoff>=1.10.0 in /usr/local/lib/python3.12/dist-packages (from posthog>=2.4.0->chromadb<0.5.0,>=0.4.22->crewai_tools==0.1.6) (2.2.1)\n",
            "Requirement already satisfied: deprecated in /usr/local/lib/python3.12/dist-packages (from PyGithub<2.0.0,>=1.59.1->embedchain[github,youtube]<0.2.0,>=0.1.85->crewai_tools==0.1.6) (1.2.18)\n",
            "Requirement already satisfied: pyjwt>=2.4.0 in /usr/local/lib/python3.12/dist-packages (from pyjwt[crypto]>=2.4.0->PyGithub<2.0.0,>=1.59.1->embedchain[github,youtube]<0.2.0,>=0.1.85->crewai_tools==0.1.6) (2.10.1)\n",
            "Requirement already satisfied: pynacl>=1.4.0 in /usr/local/lib/python3.12/dist-packages (from PyGithub<2.0.0,>=1.59.1->embedchain[github,youtube]<0.2.0,>=0.1.85->crewai_tools==0.1.6) (1.6.0)\n",
            "Requirement already satisfied: decorator>=3.4.2 in /usr/local/lib/python3.12/dist-packages (from retry>=0.9.2->lancedb<0.6.0,>=0.5.4->crewai_tools==0.1.6) (4.4.2)\n",
            "Requirement already satisfied: py<2.0.0,>=1.4.26 in /usr/local/lib/python3.12/dist-packages (from retry>=0.9.2->lancedb<0.6.0,>=0.5.4->crewai_tools==0.1.6) (1.11.0)\n",
            "Requirement already satisfied: markdown-it-py>=2.2.0 in /usr/local/lib/python3.12/dist-packages (from rich<14.0.0,>=13.7.0->embedchain<0.2.0,>=0.1.98->crewai==0.28.8) (4.0.0)\n",
            "Requirement already satisfied: huggingface-hub<1.0,>=0.16.4 in /usr/local/lib/python3.12/dist-packages (from tokenizers>=0.13.2->chromadb<0.5.0,>=0.4.22->crewai_tools==0.1.6) (0.34.4)\n",
            "Requirement already satisfied: sortedcontainers in /usr/local/lib/python3.12/dist-packages (from trio~=0.30.0->selenium<5.0.0,>=4.18.1->crewai_tools==0.1.6) (2.4.0)\n",
            "Requirement already satisfied: outcome in /usr/local/lib/python3.12/dist-packages (from trio~=0.30.0->selenium<5.0.0,>=4.18.1->crewai_tools==0.1.6) (1.3.0.post0)\n",
            "Requirement already satisfied: wsproto>=0.14 in /usr/local/lib/python3.12/dist-packages (from trio-websocket~=0.12.2->selenium<5.0.0,>=4.18.1->crewai_tools==0.1.6) (1.2.0)\n",
            "Requirement already satisfied: mypy-extensions>=0.3.0 in /usr/local/lib/python3.12/dist-packages (from typing-inspect<1,>=0.4.0->dataclasses-json<0.7,>=0.5.7->langchain_community==0.0.29) (1.1.0)\n",
            "Requirement already satisfied: pysocks!=1.5.7,<2.0,>=1.5.6 in /usr/local/lib/python3.12/dist-packages (from urllib3[socks]<3.0,>=2.5.0->selenium<5.0.0,>=4.18.1->crewai_tools==0.1.6) (1.7.1)\n",
            "Requirement already satisfied: httptools>=0.6.3 in /usr/local/lib/python3.12/dist-packages (from uvicorn[standard]>=0.18.3->chromadb<0.5.0,>=0.4.22->crewai_tools==0.1.6) (0.6.4)\n",
            "Requirement already satisfied: uvloop>=0.15.1 in /usr/local/lib/python3.12/dist-packages (from uvicorn[standard]>=0.18.3->chromadb<0.5.0,>=0.4.22->crewai_tools==0.1.6) (0.21.0)\n",
            "Requirement already satisfied: watchfiles>=0.13 in /usr/local/lib/python3.12/dist-packages (from uvicorn[standard]>=0.18.3->chromadb<0.5.0,>=0.4.22->crewai_tools==0.1.6) (1.1.0)\n",
            "Requirement already satisfied: websockets>=10.4 in /usr/local/lib/python3.12/dist-packages (from uvicorn[standard]>=0.18.3->chromadb<0.5.0,>=0.4.22->crewai_tools==0.1.6) (15.0.1)\n",
            "Requirement already satisfied: defusedxml<0.8.0,>=0.7.1 in /usr/local/lib/python3.12/dist-packages (from youtube-transcript-api<0.7.0,>=0.6.1->embedchain[github,youtube]<0.2.0,>=0.1.85->crewai_tools==0.1.6) (0.7.1)\n",
            "Requirement already satisfied: mutagen in /usr/local/lib/python3.12/dist-packages (from yt_dlp<2024.0.0,>=2023.11.14->embedchain[github,youtube]<0.2.0,>=0.1.85->crewai_tools==0.1.6) (1.47.0)\n",
            "Requirement already satisfied: pycryptodomex in /usr/local/lib/python3.12/dist-packages (from yt_dlp<2024.0.0,>=2023.11.14->embedchain[github,youtube]<0.2.0,>=0.1.85->crewai_tools==0.1.6) (3.23.0)\n",
            "Requirement already satisfied: brotli in /usr/local/lib/python3.12/dist-packages (from yt_dlp<2024.0.0,>=2023.11.14->embedchain[github,youtube]<0.2.0,>=0.1.85->crewai_tools==0.1.6) (1.1.0)\n",
            "Requirement already satisfied: fastavro<2.0.0,>=1.9.4 in /usr/local/lib/python3.12/dist-packages (from cohere<6.0,>=5.5->langchain-cohere<0.2.0,>=0.1.4->embedchain<0.2.0,>=0.1.98->crewai==0.28.8) (1.12.0)\n",
            "Requirement already satisfied: httpx-sse==0.4.0 in /usr/local/lib/python3.12/dist-packages (from cohere<6.0,>=5.5->langchain-cohere<0.2.0,>=0.1.4->embedchain<0.2.0,>=0.1.98->crewai==0.28.8) (0.4.0)\n",
            "Requirement already satisfied: types-requests<3.0.0,>=2.0.0 in /usr/local/lib/python3.12/dist-packages (from cohere<6.0,>=5.5->langchain-cohere<0.2.0,>=0.1.4->embedchain<0.2.0,>=0.1.98->crewai==0.28.8) (2.32.4.20250913)\n",
            "Requirement already satisfied: smmap<6,>=3.0.1 in /usr/local/lib/python3.12/dist-packages (from gitdb<5,>=4.0.1->gitpython<4.0.0,>=3.1.38->embedchain[github,youtube]<0.2.0,>=0.1.85->crewai_tools==0.1.6) (5.0.2)\n",
            "Requirement already satisfied: grpcio-status<2.0.0,>=1.33.2 in /usr/local/lib/python3.12/dist-packages (from google-api-core[grpc]!=2.0.*,!=2.1.*,!=2.2.*,!=2.3.*,!=2.4.*,!=2.5.*,!=2.6.*,!=2.7.*,<3.0.0,>=1.34.1->google-cloud-aiplatform<2.0.0,>=1.26.1->embedchain<0.2.0,>=0.1.98->crewai==0.28.8) (1.71.2)\n",
            "Requirement already satisfied: pyasn1-modules>=0.2.1 in /usr/local/lib/python3.12/dist-packages (from google-auth<3.0.0,>=2.14.1->google-cloud-aiplatform<2.0.0,>=1.26.1->embedchain<0.2.0,>=0.1.98->crewai==0.28.8) (0.4.2)\n",
            "Requirement already satisfied: rsa<5,>=3.1.4 in /usr/local/lib/python3.12/dist-packages (from google-auth<3.0.0,>=2.14.1->google-cloud-aiplatform<2.0.0,>=1.26.1->embedchain<0.2.0,>=0.1.98->crewai==0.28.8) (4.9.1)\n",
            "Requirement already satisfied: google-cloud-core<3.0.0dev,>=2.4.1 in /usr/local/lib/python3.12/dist-packages (from google-cloud-bigquery!=3.20.0,<4.0.0,>=1.15.0->google-cloud-aiplatform<2.0.0,>=1.26.1->embedchain<0.2.0,>=0.1.98->crewai==0.28.8) (2.4.3)\n",
            "Requirement already satisfied: google-resumable-media<3.0dev,>=2.0.0 in /usr/local/lib/python3.12/dist-packages (from google-cloud-bigquery!=3.20.0,<4.0.0,>=1.15.0->google-cloud-aiplatform<2.0.0,>=1.26.1->embedchain<0.2.0,>=0.1.98->crewai==0.28.8) (2.7.2)\n",
            "Requirement already satisfied: grpc-google-iam-v1<1.0.0,>=0.14.0 in /usr/local/lib/python3.12/dist-packages (from google-cloud-resource-manager<3.0.0,>=1.3.3->google-cloud-aiplatform<2.0.0,>=1.26.1->embedchain<0.2.0,>=0.1.98->crewai==0.28.8) (0.14.2)\n",
            "Requirement already satisfied: google-crc32c<2.0dev,>=1.0 in /usr/local/lib/python3.12/dist-packages (from google-cloud-storage<3.0.0,>=1.32.0->google-cloud-aiplatform<2.0.0,>=1.26.1->embedchain<0.2.0,>=0.1.98->crewai==0.28.8) (1.7.1)\n",
            "Requirement already satisfied: filelock in /usr/local/lib/python3.12/dist-packages (from huggingface-hub<1.0,>=0.16.4->tokenizers>=0.13.2->chromadb<0.5.0,>=0.4.22->crewai_tools==0.1.6) (3.19.1)\n",
            "Requirement already satisfied: hf-xet<2.0.0,>=1.1.3 in /usr/local/lib/python3.12/dist-packages (from huggingface-hub<1.0,>=0.16.4->tokenizers>=0.13.2->chromadb<0.5.0,>=0.4.22->crewai_tools==0.1.6) (1.1.9)\n",
            "Requirement already satisfied: mdurl~=0.1 in /usr/local/lib/python3.12/dist-packages (from markdown-it-py>=2.2.0->rich<14.0.0,>=13.7.0->embedchain<0.2.0,>=0.1.98->crewai==0.28.8) (0.1.2)\n",
            "Requirement already satisfied: cryptography>=3.4.0 in /usr/local/lib/python3.12/dist-packages (from pyjwt[crypto]>=2.4.0->PyGithub<2.0.0,>=1.59.1->embedchain[github,youtube]<0.2.0,>=0.1.85->crewai_tools==0.1.6) (43.0.3)\n",
            "Requirement already satisfied: cffi>=1.4.1 in /usr/local/lib/python3.12/dist-packages (from pynacl>=1.4.0->PyGithub<2.0.0,>=1.59.1->embedchain[github,youtube]<0.2.0,>=0.1.85->crewai_tools==0.1.6) (2.0.0)\n",
            "Requirement already satisfied: python-rapidjson>=0.9.1 in /usr/local/lib/python3.12/dist-packages (from tritonclient>=2.34.0->clarifai<11.0.0,>=10.0.1->embedchain<0.2.0,>=0.1.98->crewai==0.28.8) (1.21)\n",
            "Requirement already satisfied: humanfriendly>=9.1 in /usr/local/lib/python3.12/dist-packages (from coloredlogs->onnxruntime>=1.14.1->chromadb<0.5.0,>=0.4.22->crewai_tools==0.1.6) (10.0)\n",
            "Requirement already satisfied: MarkupSafe>=0.9.2 in /usr/local/lib/python3.12/dist-packages (from Mako->alembic<2.0.0,>=1.13.1->embedchain<0.2.0,>=0.1.98->crewai==0.28.8) (3.0.2)\n",
            "Requirement already satisfied: mpmath<1.4,>=1.1.0 in /usr/local/lib/python3.12/dist-packages (from sympy->onnxruntime>=1.14.1->chromadb<0.5.0,>=0.4.22->crewai_tools==0.1.6) (1.3.0)\n",
            "Requirement already satisfied: pycparser in /usr/local/lib/python3.12/dist-packages (from cffi>=1.4.1->pynacl>=1.4.0->PyGithub<2.0.0,>=1.59.1->embedchain[github,youtube]<0.2.0,>=0.1.85->crewai_tools==0.1.6) (2.23)\n",
            "Requirement already satisfied: wcwidth in /usr/local/lib/python3.12/dist-packages (from prompt-toolkit<4.0.0,>=3.0.1->inquirerpy==0.3.4->clarifai<11.0.0,>=10.0.1->embedchain<0.2.0,>=0.1.98->crewai==0.28.8) (0.2.13)\n",
            "Requirement already satisfied: pyasn1<0.7.0,>=0.6.1 in /usr/local/lib/python3.12/dist-packages (from pyasn1-modules>=0.2.1->google-auth<3.0.0,>=2.14.1->google-cloud-aiplatform<2.0.0,>=1.26.1->embedchain<0.2.0,>=0.1.98->crewai==0.28.8) (0.6.1)\n"
          ]
        }
      ]
    },
    {
      "cell_type": "code",
      "source": [
        "pip install utils\n"
      ],
      "metadata": {
        "colab": {
          "base_uri": "https://localhost:8080/"
        },
        "id": "n3MHIPL4bXvP",
        "outputId": "c0064a3c-0603-4754-dcff-aabcd0595e00"
      },
      "execution_count": null,
      "outputs": [
        {
          "output_type": "stream",
          "name": "stdout",
          "text": [
            "Collecting utils\n",
            "  Downloading utils-1.0.2.tar.gz (13 kB)\n",
            "  Preparing metadata (setup.py) ... \u001b[?25l\u001b[?25hdone\n",
            "Building wheels for collected packages: utils\n",
            "  Building wheel for utils (setup.py) ... \u001b[?25l\u001b[?25hdone\n",
            "  Created wheel for utils: filename=utils-1.0.2-py2.py3-none-any.whl size=13906 sha256=c129438b47205bbec63725d20fa71c8c9606b8258599dd1b0f1e561e01e8e75c\n",
            "  Stored in directory: /root/.cache/pip/wheels/b6/a1/81/1036477786ae0e17b522f6f5a838f9bc4288d1016fc5d0e1ec\n",
            "Successfully built utils\n",
            "Installing collected packages: utils\n",
            "Successfully installed utils-1.0.2\n"
          ]
        }
      ]
    },
    {
      "cell_type": "markdown",
      "metadata": {
        "id": "XhP5NT1zahIy"
      },
      "source": [
        "You can download the `requirements.txt` for this course from the workspace of this lab. `File --> Open...`"
      ]
    },
    {
      "cell_type": "markdown",
      "metadata": {
        "id": "0ypBsR5dahIy"
      },
      "source": [
        "# L2: Create Agents to Research and Write an Article\n",
        "\n",
        "In this lesson, you will be introduced to the foundational concepts of multi-agent systems and get an overview of the crewAI framework."
      ]
    },
    {
      "cell_type": "markdown",
      "metadata": {
        "id": "r0Xq4JblahIz"
      },
      "source": [
        "The libraries are already installed in the classroom. If you're running this notebook on your own machine, you can install the following:\n",
        "```Python\n",
        "!pip install crewai==0.28.8 crewai_tools==0.1.6 langchain_community==0.0.29\n",
        "```"
      ]
    },
    {
      "cell_type": "code",
      "execution_count": null,
      "metadata": {
        "height": 64,
        "id": "T7zt1gyCahIz"
      },
      "outputs": [],
      "source": [
        "# Warning control\n",
        "import warnings\n",
        "warnings.filterwarnings('ignore')"
      ]
    },
    {
      "cell_type": "markdown",
      "metadata": {
        "id": "FFSQFebNahIz"
      },
      "source": [
        "- Import from the crewAI libray."
      ]
    },
    {
      "cell_type": "code",
      "execution_count": null,
      "metadata": {
        "height": 30,
        "id": "Qp-s2c4XahI0"
      },
      "outputs": [],
      "source": [
        "from crewai import Agent, Task, Crew"
      ]
    },
    {
      "cell_type": "markdown",
      "metadata": {
        "id": "edmiIt-4ahI0"
      },
      "source": [
        "- As a LLM for your agents, you'll be using OpenAI's `gpt-3.5-turbo`.\n",
        "\n",
        "**Optional Note:** crewAI also allow other popular models to be used as a LLM for your Agents. You can see some of the examples at the [bottom of the notebook](#1)."
      ]
    },
    {
      "cell_type": "markdown",
      "metadata": {
        "id": "TwvBAQMUahI0"
      },
      "source": [
        "## Creating Agents\n",
        "\n",
        "- Define your Agents, and provide them a `role`, `goal` and `backstory`.\n",
        "- It has been seen that LLMs perform better when they are role playing."
      ]
    },
    {
      "cell_type": "markdown",
      "metadata": {
        "id": "hxfvCYoCahI1"
      },
      "source": [
        "### Agent: Planner\n",
        "\n",
        "**Note**: The benefit of using _multiple strings_ :\n",
        "```Python\n",
        "varname = \"line 1 of text\"\n",
        "          \"line 2 of text\"\n",
        "```\n",
        "\n",
        "versus the _triple quote docstring_:\n",
        "```Python\n",
        "varname = \"\"\"line 1 of text\n",
        "             line 2 of text\n",
        "          \"\"\"\n",
        "```\n",
        "is that it can avoid adding those whitespaces and newline characters, making it better formatted to be passed to the LLM."
      ]
    },
    {
      "cell_type": "code",
      "execution_count": null,
      "metadata": {
        "height": 234,
        "id": "maNURGe-ahI1"
      },
      "outputs": [],
      "source": [
        "from langchain_community.chat_models import ChatOpenAI\n",
        "import os\n",
        "from google.colab import userdata\n",
        "\n",
        "#print(f\"OpenAI API Key: {openai_api_key}\")\n",
        "\n",
        "planner = Agent(\n",
        "    role=\"Content Planner\",\n",
        "    goal=\"Plan engaging and factually accurate content on {topic}\",\n",
        "    backstory=\"You're working on planning a blog article \"\n",
        "              \"about the topic: {topic}.\"\n",
        "              \"You collect information that helps the \"\n",
        "              \"audience learn something \"\n",
        "              \"and make informed decisions. \"\n",
        "              \"Your work is the basis for the \"\n",
        "              \"Content Writer to write an article on this topic.\",\n",
        "    allow_delegation=False,\n",
        "    verbose=True,\n",
        "    llm=ChatOpenAI(temperature=0, model=\"gpt-3.5-turbo\", api_key=userdata.get(\"OPENAI_API_KEY\"))\n",
        ")"
      ]
    },
    {
      "cell_type": "markdown",
      "metadata": {
        "id": "WaQ33GbmahI1"
      },
      "source": [
        "### Agent: Writer"
      ]
    },
    {
      "cell_type": "code",
      "execution_count": null,
      "metadata": {
        "height": 370,
        "id": "_tucc8fGahI1"
      },
      "outputs": [],
      "source": [
        "from langchain_community.chat_models import ChatOpenAI\n",
        "\n",
        "writer = Agent(\n",
        "    role=\"Content Writer\",\n",
        "    goal=\"Write insightful and factually accurate \"\n",
        "         \"opinion piece about the topic: {topic}\",\n",
        "    backstory=\"You're working on a writing \"\n",
        "              \"a new opinion piece about the topic: {topic}. \"\n",
        "              \"You base your writing on the work of \"\n",
        "              \"the Content Planner, who provides an outline \"\n",
        "              \"and relevant context about the topic. \"\n",
        "              \"You follow the main objectives and \"\n",
        "              \"direction of the outline, \"\n",
        "              \"as provide by the Content Planner. \"\n",
        "              \"You also provide objective and impartial insights \"\n",
        "              \"and back them up with information \"\n",
        "              \"provide by the Content Planner. \"\n",
        "              \"You acknowledge in your opinion piece \"\n",
        "              \"when your statements are opinions \"\n",
        "              \"as opposed to objective statements.\",\n",
        "    allow_delegation=False,\n",
        "    verbose=True,\n",
        "    llm=ChatOpenAI(temperature=0, model=\"gpt-3.5-turbo\", api_key=openai_api_key)\n",
        ")"
      ]
    },
    {
      "cell_type": "markdown",
      "metadata": {
        "id": "Wn1xeYFIahI1"
      },
      "source": [
        "### Agent: Editor"
      ]
    },
    {
      "cell_type": "code",
      "execution_count": null,
      "metadata": {
        "height": 268,
        "id": "Jx2VzRB7ahI1"
      },
      "outputs": [],
      "source": [
        "from langchain_community.chat_models import ChatOpenAI\n",
        "\n",
        "editor = Agent(\n",
        "    role=\"Editor\",\n",
        "    goal=\"Edit a given blog post to align with \"\n",
        "         \"the writing style of the organization. \",\n",
        "    backstory=\"You are an editor who receives a blog post \"\n",
        "              \"from the Content Writer. \"\n",
        "              \"Your goal is to review the blog post \"\n",
        "              \"to ensure that it follows journalistic best practices,\"\n",
        "              \"provides balanced viewpoints \"\n",
        "              \"when providing opinions or assertions, \"\n",
        "              \"and also avoids major controversial topics \"\n",
        "              \"or opinions when possible.\",\n",
        "    allow_delegation=False,\n",
        "    verbose=True,\n",
        "    llm=ChatOpenAI(temperature=0, model=\"gpt-3.5-turbo\", api_key=openai_api_key)\n",
        ")"
      ]
    },
    {
      "cell_type": "markdown",
      "metadata": {
        "id": "LefMahZVahI1"
      },
      "source": [
        "## Creating Tasks\n",
        "\n",
        "- Define your Tasks, and provide them a `description`, `expected_output` and `agent`."
      ]
    },
    {
      "cell_type": "markdown",
      "metadata": {
        "id": "NtLg_TCNahI2"
      },
      "source": [
        "### Task: Plan"
      ]
    },
    {
      "cell_type": "code",
      "execution_count": null,
      "metadata": {
        "height": 268,
        "id": "CUUfgR2uahI2"
      },
      "outputs": [],
      "source": [
        "plan = Task(\n",
        "    description=(\n",
        "        \"1. Prioritize the latest trends, key players, \"\n",
        "            \"and noteworthy news on {topic}.\\n\"\n",
        "        \"2. Identify the target audience, considering \"\n",
        "            \"their interests and pain points.\\n\"\n",
        "        \"3. Develop a detailed content outline including \"\n",
        "            \"an introduction, key points, and a call to action.\\n\"\n",
        "        \"4. Include SEO keywords and relevant data or sources.\"\n",
        "    ),\n",
        "    expected_output=\"A comprehensive content plan document \"\n",
        "        \"with an outline, audience analysis, \"\n",
        "        \"SEO keywords, and resources.\",\n",
        "    agent=planner,\n",
        ")"
      ]
    },
    {
      "cell_type": "markdown",
      "metadata": {
        "id": "cqhaNxHgahI2"
      },
      "source": [
        "### Task: Write"
      ]
    },
    {
      "cell_type": "code",
      "execution_count": null,
      "metadata": {
        "height": 319,
        "id": "vHFixJGTahI2"
      },
      "outputs": [],
      "source": [
        "write = Task(\n",
        "    description=(\n",
        "        \"1. Use the content plan to craft a compelling \"\n",
        "            \"blog post on {topic}.\\n\"\n",
        "        \"2. Incorporate SEO keywords naturally.\\n\"\n",
        "\t\t\"3. Sections/Subtitles are properly named \"\n",
        "            \"in an engaging manner.\\n\"\n",
        "        \"4. Ensure the post is structured with an \"\n",
        "            \"engaging introduction, insightful body, \"\n",
        "            \"and a summarizing conclusion.\\n\"\n",
        "        \"5. Proofread for grammatical errors and \"\n",
        "            \"alignment with the brand's voice.\\n\"\n",
        "    ),\n",
        "    expected_output=\"A well-written blog post \"\n",
        "        \"in markdown format, ready for publication, \"\n",
        "        \"each section should have 2 or 3 paragraphs.\",\n",
        "    agent=writer,\n",
        ")"
      ]
    },
    {
      "cell_type": "markdown",
      "metadata": {
        "id": "TgkSWjKfahI2"
      },
      "source": [
        "### Task: Edit"
      ]
    },
    {
      "cell_type": "code",
      "execution_count": null,
      "metadata": {
        "height": 166,
        "id": "XENAKsZqahI2"
      },
      "outputs": [],
      "source": [
        "edit = Task(\n",
        "    description=(\"Proofread the given blog post for \"\n",
        "                 \"grammatical errors and \"\n",
        "                 \"alignment with the brand's voice.\"),\n",
        "    expected_output=\"A well-written blog post in markdown format, \"\n",
        "                    \"ready for publication, \"\n",
        "                    \"each section should have 2 or 3 paragraphs.\",\n",
        "    agent=editor\n",
        ")"
      ]
    },
    {
      "cell_type": "markdown",
      "metadata": {
        "id": "iajxHSDlahI2"
      },
      "source": [
        "## Creating the Crew\n",
        "\n",
        "- Create your crew of Agents\n",
        "- Pass the tasks to be performed by those agents.\n",
        "    - **Note**: *For this simple example*, the tasks will be performed sequentially (i.e they are dependent on each other), so the _order_ of the task in the list _matters_.\n",
        "- `verbose=2` allows you to see all the logs of the execution."
      ]
    },
    {
      "cell_type": "code",
      "execution_count": null,
      "metadata": {
        "height": 98,
        "id": "PMHDCPl4ahI2"
      },
      "outputs": [],
      "source": [
        "crew = Crew(\n",
        "    agents=[planner, writer, editor],\n",
        "    tasks=[plan, write, edit],\n",
        "    verbose=2\n",
        ")"
      ]
    },
    {
      "cell_type": "markdown",
      "metadata": {
        "id": "oNhLcCJgahI2"
      },
      "source": [
        "## Running the Crew"
      ]
    },
    {
      "cell_type": "markdown",
      "metadata": {
        "id": "a6s9LvWQahI2"
      },
      "source": [
        "**Note**: LLMs can provide different outputs for they same input, so what you get might be different than what you see in the video."
      ]
    },
    {
      "cell_type": "code",
      "execution_count": null,
      "metadata": {
        "height": 30,
        "colab": {
          "base_uri": "https://localhost:8080/"
        },
        "id": "dfrirmbbahI2",
        "outputId": "ecae7543-7ffa-4b1c-c087-0ed04c851832"
      },
      "outputs": [
        {
          "output_type": "stream",
          "name": "stdout",
          "text": [
            "\u001b[1m\u001b[95m [DEBUG]: == Working Agent: Content Planner\u001b[00m\n",
            "\u001b[1m\u001b[95m [INFO]: == Starting Task: 1. Prioritize the latest trends, key players, and noteworthy news on Building the Eiffel Tower.\n",
            "2. Identify the target audience, considering their interests and pain points.\n",
            "3. Develop a detailed content outline including an introduction, key points, and a call to action.\n",
            "4. Include SEO keywords and relevant data or sources.\u001b[00m\n",
            "\n",
            "\n",
            "\u001b[1m> Entering new CrewAgentExecutor chain...\u001b[0m\n",
            "\u001b[32;1m\u001b[1;3mI now can give a great answer\n",
            "\n",
            "Final Answer:\n",
            "\n",
            "Content Plan: Building the Eiffel Tower\n",
            "\n",
            "Outline:\n",
            "I. Introduction\n",
            "- Brief history of the Eiffel Tower\n",
            "- Importance of the Eiffel Tower as a cultural icon\n",
            "II. Construction of the Eiffel Tower\n",
            "- Design and architecture\n",
            "- Construction process and challenges faced\n",
            "III. Interesting facts about the Eiffel Tower\n",
            "- Height and dimensions\n",
            "- Maintenance and renovations\n",
            "IV. Impact of the Eiffel Tower\n",
            "- Tourism and economic significance\n",
            "- Cultural and historical importance\n",
            "V. Call to Action\n",
            "- Encourage readers to visit the Eiffel Tower or learn more about its history\n",
            "\n",
            "Target Audience:\n",
            "- History enthusiasts\n",
            "- Architecture and engineering students/professionals\n",
            "- Travelers interested in visiting iconic landmarks\n",
            "- Individuals interested in cultural heritage and landmarks\n",
            "\n",
            "SEO Keywords:\n",
            "- Eiffel Tower construction\n",
            "- Eiffel Tower history\n",
            "- Eiffel Tower facts\n",
            "- Eiffel Tower impact\n",
            "- Eiffel Tower tourism\n",
            "\n",
            "Resources:\n",
            "1. Official website of the Eiffel Tower: https://www.toureiffel.paris/en\n",
            "2. \"Eiffel's Tower: The Thrilling Story Behind Paris's Beloved Monument and the Extraordinary World's Fair That Introduced It\" by Jill Jonnes\n",
            "3. \"The Eiffel Tower\" by Bertrand Lemoine\n",
            "4. \"Eiffel Tower: A History From Beginning to End\" by Hourly History\n",
            "\n",
            "By following this content plan, the blog article on Building the Eiffel Tower will provide valuable information to the target audience while incorporating relevant SEO keywords and reputable resources.\u001b[0m\n",
            "\n",
            "\u001b[1m> Finished chain.\u001b[0m\n",
            "\u001b[1m\u001b[92m [DEBUG]: == [Content Planner] Task output: Content Plan: Building the Eiffel Tower\n",
            "\n",
            "Outline:\n",
            "I. Introduction\n",
            "- Brief history of the Eiffel Tower\n",
            "- Importance of the Eiffel Tower as a cultural icon\n",
            "II. Construction of the Eiffel Tower\n",
            "- Design and architecture\n",
            "- Construction process and challenges faced\n",
            "III. Interesting facts about the Eiffel Tower\n",
            "- Height and dimensions\n",
            "- Maintenance and renovations\n",
            "IV. Impact of the Eiffel Tower\n",
            "- Tourism and economic significance\n",
            "- Cultural and historical importance\n",
            "V. Call to Action\n",
            "- Encourage readers to visit the Eiffel Tower or learn more about its history\n",
            "\n",
            "Target Audience:\n",
            "- History enthusiasts\n",
            "- Architecture and engineering students/professionals\n",
            "- Travelers interested in visiting iconic landmarks\n",
            "- Individuals interested in cultural heritage and landmarks\n",
            "\n",
            "SEO Keywords:\n",
            "- Eiffel Tower construction\n",
            "- Eiffel Tower history\n",
            "- Eiffel Tower facts\n",
            "- Eiffel Tower impact\n",
            "- Eiffel Tower tourism\n",
            "\n",
            "Resources:\n",
            "1. Official website of the Eiffel Tower: https://www.toureiffel.paris/en\n",
            "2. \"Eiffel's Tower: The Thrilling Story Behind Paris's Beloved Monument and the Extraordinary World's Fair That Introduced It\" by Jill Jonnes\n",
            "3. \"The Eiffel Tower\" by Bertrand Lemoine\n",
            "4. \"Eiffel Tower: A History From Beginning to End\" by Hourly History\n",
            "\n",
            "By following this content plan, the blog article on Building the Eiffel Tower will provide valuable information to the target audience while incorporating relevant SEO keywords and reputable resources.\n",
            "\n",
            "\u001b[00m\n",
            "\u001b[1m\u001b[95m [DEBUG]: == Working Agent: Content Writer\u001b[00m\n",
            "\u001b[1m\u001b[95m [INFO]: == Starting Task: 1. Use the content plan to craft a compelling blog post on Building the Eiffel Tower.\n",
            "2. Incorporate SEO keywords naturally.\n",
            "3. Sections/Subtitles are properly named in an engaging manner.\n",
            "4. Ensure the post is structured with an engaging introduction, insightful body, and a summarizing conclusion.\n",
            "5. Proofread for grammatical errors and alignment with the brand's voice.\n",
            "\u001b[00m\n",
            "\n",
            "\n",
            "\u001b[1m> Entering new CrewAgentExecutor chain...\u001b[0m\n",
            "\u001b[32;1m\u001b[1;3mI now can give a great answer\n",
            "\n",
            "Final Answer:\n",
            "\n",
            "# Building the Eiffel Tower: A Cultural Icon\n",
            "\n",
            "## Introduction\n",
            "The Eiffel Tower, one of the most iconic landmarks in the world, holds a significant place in history and culture. Built in 1889 as the entrance arch for the 1889 World's Fair, it was initially met with skepticism but has since become a symbol of Paris and France. The tower was named after Gustave Eiffel, the engineer whose company designed and built it. Its construction marked a turning point in architectural innovation and engineering prowess.\n",
            "\n",
            "## Construction of the Eiffel Tower\n",
            "The design and architecture of the Eiffel Tower are a testament to the creativity and vision of Gustave Eiffel and his team of engineers. Standing at 1,063 feet tall, the tower was the tallest man-made structure in the world until the completion of the Chrysler Building in New York City in 1930. The construction process was a feat of engineering, with over 18,000 individual iron parts assembled using over 2 million rivets. Despite facing challenges such as strong winds and public criticism, the Eiffel Tower was completed in just over two years.\n",
            "\n",
            "## Interesting Facts about the Eiffel Tower\n",
            "The Eiffel Tower's impressive height and dimensions make it a marvel of modern architecture. It weighs approximately 10,100 tons and has three levels that offer panoramic views of Paris. The tower undergoes regular maintenance and renovations to ensure its structural integrity and preserve its iconic status. It is estimated that over 7 million people visit the Eiffel Tower each year, making it one of the most visited paid monuments in the world.\n",
            "\n",
            "## Impact of the Eiffel Tower\n",
            "The Eiffel Tower has had a profound impact on tourism and the economy of Paris. It attracts visitors from around the globe who come to admire its beauty and learn about its history. The tower also holds cultural and historical significance as a symbol of French national pride and innovation. Its image is often used to promote tourism and represent the city of Paris in various media and marketing campaigns.\n",
            "\n",
            "## Call to Action\n",
            "Whether you are a history enthusiast, an architecture student, or a traveler looking to explore iconic landmarks, the Eiffel Tower offers a unique experience that is not to be missed. Plan a visit to this cultural icon or delve deeper into its history through reputable resources and books that provide insights into its construction, significance, and impact on the world.\n",
            "\n",
            "In conclusion, the Eiffel Tower stands as a testament to human ingenuity and creativity, captivating audiences with its beauty and historical significance. Its construction and impact on tourism and culture make it a must-visit destination for anyone interested in exploring the wonders of the world. Visit the official website of the Eiffel Tower or read books by renowned authors to learn more about this iconic landmark.\u001b[0m\n",
            "\n",
            "\u001b[1m> Finished chain.\u001b[0m\n",
            "\u001b[1m\u001b[92m [DEBUG]: == [Content Writer] Task output: # Building the Eiffel Tower: A Cultural Icon\n",
            "\n",
            "## Introduction\n",
            "The Eiffel Tower, one of the most iconic landmarks in the world, holds a significant place in history and culture. Built in 1889 as the entrance arch for the 1889 World's Fair, it was initially met with skepticism but has since become a symbol of Paris and France. The tower was named after Gustave Eiffel, the engineer whose company designed and built it. Its construction marked a turning point in architectural innovation and engineering prowess.\n",
            "\n",
            "## Construction of the Eiffel Tower\n",
            "The design and architecture of the Eiffel Tower are a testament to the creativity and vision of Gustave Eiffel and his team of engineers. Standing at 1,063 feet tall, the tower was the tallest man-made structure in the world until the completion of the Chrysler Building in New York City in 1930. The construction process was a feat of engineering, with over 18,000 individual iron parts assembled using over 2 million rivets. Despite facing challenges such as strong winds and public criticism, the Eiffel Tower was completed in just over two years.\n",
            "\n",
            "## Interesting Facts about the Eiffel Tower\n",
            "The Eiffel Tower's impressive height and dimensions make it a marvel of modern architecture. It weighs approximately 10,100 tons and has three levels that offer panoramic views of Paris. The tower undergoes regular maintenance and renovations to ensure its structural integrity and preserve its iconic status. It is estimated that over 7 million people visit the Eiffel Tower each year, making it one of the most visited paid monuments in the world.\n",
            "\n",
            "## Impact of the Eiffel Tower\n",
            "The Eiffel Tower has had a profound impact on tourism and the economy of Paris. It attracts visitors from around the globe who come to admire its beauty and learn about its history. The tower also holds cultural and historical significance as a symbol of French national pride and innovation. Its image is often used to promote tourism and represent the city of Paris in various media and marketing campaigns.\n",
            "\n",
            "## Call to Action\n",
            "Whether you are a history enthusiast, an architecture student, or a traveler looking to explore iconic landmarks, the Eiffel Tower offers a unique experience that is not to be missed. Plan a visit to this cultural icon or delve deeper into its history through reputable resources and books that provide insights into its construction, significance, and impact on the world.\n",
            "\n",
            "In conclusion, the Eiffel Tower stands as a testament to human ingenuity and creativity, captivating audiences with its beauty and historical significance. Its construction and impact on tourism and culture make it a must-visit destination for anyone interested in exploring the wonders of the world. Visit the official website of the Eiffel Tower or read books by renowned authors to learn more about this iconic landmark.\n",
            "\n",
            "\u001b[00m\n",
            "\u001b[1m\u001b[95m [DEBUG]: == Working Agent: Editor\u001b[00m\n",
            "\u001b[1m\u001b[95m [INFO]: == Starting Task: Proofread the given blog post for grammatical errors and alignment with the brand's voice.\u001b[00m\n",
            "\n",
            "\n",
            "\u001b[1m> Entering new CrewAgentExecutor chain...\u001b[0m\n",
            "\u001b[32;1m\u001b[1;3mI now can give a great answer\n",
            "\n",
            "Final Answer:\n",
            "# Building the Eiffel Tower: A Cultural Icon\n",
            "\n",
            "## Introduction\n",
            "The Eiffel Tower, one of the most iconic landmarks in the world, holds a significant place in history and culture. Built in 1889 as the entrance arch for the 1889 World's Fair, it was initially met with skepticism but has since become a symbol of Paris and France. The tower was named after Gustave Eiffel, the engineer whose company designed and built it. Its construction marked a turning point in architectural innovation and engineering prowess.\n",
            "\n",
            "## Construction of the Eiffel Tower\n",
            "The design and architecture of the Eiffel Tower are a testament to the creativity and vision of Gustave Eiffel and his team of engineers. Standing at 1,063 feet tall, the tower was the tallest man-made structure in the world until the completion of the Chrysler Building in New York City in 1930. The construction process was a feat of engineering, with over 18,000 individual iron parts assembled using over 2 million rivets. Despite facing challenges such as strong winds and public criticism, the Eiffel Tower was completed in just over two years.\n",
            "\n",
            "## Interesting Facts about the Eiffel Tower\n",
            "The Eiffel Tower's impressive height and dimensions make it a marvel of modern architecture. It weighs approximately 10,100 tons and has three levels that offer panoramic views of Paris. The tower undergoes regular maintenance and renovations to ensure its structural integrity and preserve its iconic status. It is estimated that over 7 million people visit the Eiffel Tower each year, making it one of the most visited paid monuments in the world.\n",
            "\n",
            "## Impact of the Eiffel Tower\n",
            "The Eiffel Tower has had a profound impact on tourism and the economy of Paris. It attracts visitors from around the globe who come to admire its beauty and learn about its history. The tower also holds cultural and historical significance as a symbol of French national pride and innovation. Its image is often used to promote tourism and represent the city of Paris in various media and marketing campaigns.\n",
            "\n",
            "## Call to Action\n",
            "Whether you are a history enthusiast, an architecture student, or a traveler looking to explore iconic landmarks, the Eiffel Tower offers a unique experience that is not to be missed. Plan a visit to this cultural icon or delve deeper into its history through reputable resources and books that provide insights into its construction, significance, and impact on the world.\n",
            "\n",
            "In conclusion, the Eiffel Tower stands as a testament to human ingenuity and creativity, captivating audiences with its beauty and historical significance. Its construction and impact on tourism and culture make it a must-visit destination for anyone interested in exploring the wonders of the world. Visit the official website of the Eiffel Tower or read books by renowned authors to learn more about this iconic landmark.\u001b[0m\n",
            "\n",
            "\u001b[1m> Finished chain.\u001b[0m\n",
            "\u001b[1m\u001b[92m [DEBUG]: == [Editor] Task output: # Building the Eiffel Tower: A Cultural Icon\n",
            "\n",
            "## Introduction\n",
            "The Eiffel Tower, one of the most iconic landmarks in the world, holds a significant place in history and culture. Built in 1889 as the entrance arch for the 1889 World's Fair, it was initially met with skepticism but has since become a symbol of Paris and France. The tower was named after Gustave Eiffel, the engineer whose company designed and built it. Its construction marked a turning point in architectural innovation and engineering prowess.\n",
            "\n",
            "## Construction of the Eiffel Tower\n",
            "The design and architecture of the Eiffel Tower are a testament to the creativity and vision of Gustave Eiffel and his team of engineers. Standing at 1,063 feet tall, the tower was the tallest man-made structure in the world until the completion of the Chrysler Building in New York City in 1930. The construction process was a feat of engineering, with over 18,000 individual iron parts assembled using over 2 million rivets. Despite facing challenges such as strong winds and public criticism, the Eiffel Tower was completed in just over two years.\n",
            "\n",
            "## Interesting Facts about the Eiffel Tower\n",
            "The Eiffel Tower's impressive height and dimensions make it a marvel of modern architecture. It weighs approximately 10,100 tons and has three levels that offer panoramic views of Paris. The tower undergoes regular maintenance and renovations to ensure its structural integrity and preserve its iconic status. It is estimated that over 7 million people visit the Eiffel Tower each year, making it one of the most visited paid monuments in the world.\n",
            "\n",
            "## Impact of the Eiffel Tower\n",
            "The Eiffel Tower has had a profound impact on tourism and the economy of Paris. It attracts visitors from around the globe who come to admire its beauty and learn about its history. The tower also holds cultural and historical significance as a symbol of French national pride and innovation. Its image is often used to promote tourism and represent the city of Paris in various media and marketing campaigns.\n",
            "\n",
            "## Call to Action\n",
            "Whether you are a history enthusiast, an architecture student, or a traveler looking to explore iconic landmarks, the Eiffel Tower offers a unique experience that is not to be missed. Plan a visit to this cultural icon or delve deeper into its history through reputable resources and books that provide insights into its construction, significance, and impact on the world.\n",
            "\n",
            "In conclusion, the Eiffel Tower stands as a testament to human ingenuity and creativity, captivating audiences with its beauty and historical significance. Its construction and impact on tourism and culture make it a must-visit destination for anyone interested in exploring the wonders of the world. Visit the official website of the Eiffel Tower or read books by renowned authors to learn more about this iconic landmark.\n",
            "\n",
            "\u001b[00m\n"
          ]
        }
      ],
      "source": [
        "result = crew.kickoff(inputs={\"topic\": \"Building the Eiffel Tower\"})"
      ]
    },
    {
      "cell_type": "markdown",
      "metadata": {
        "id": "dq9jh088ahI2"
      },
      "source": [
        "- Display the results of your execution as markdown in the notebook."
      ]
    },
    {
      "cell_type": "code",
      "execution_count": null,
      "metadata": {
        "height": 47,
        "colab": {
          "base_uri": "https://localhost:8080/",
          "height": 659
        },
        "id": "Jn3O9yK4ahI2",
        "outputId": "5d10c664-8221-4386-f3d4-e261106ea53c"
      },
      "outputs": [
        {
          "output_type": "execute_result",
          "data": {
            "text/plain": [
              "<IPython.core.display.Markdown object>"
            ],
            "text/markdown": "# Building the Eiffel Tower: A Cultural Icon\n\n## Introduction\nThe Eiffel Tower, one of the most iconic landmarks in the world, holds a significant place in history and culture. Built in 1889 as the entrance arch for the 1889 World's Fair, it was initially met with skepticism but has since become a symbol of Paris and France. The tower was named after Gustave Eiffel, the engineer whose company designed and built it. Its construction marked a turning point in architectural innovation and engineering prowess.\n\n## Construction of the Eiffel Tower\nThe design and architecture of the Eiffel Tower are a testament to the creativity and vision of Gustave Eiffel and his team of engineers. Standing at 1,063 feet tall, the tower was the tallest man-made structure in the world until the completion of the Chrysler Building in New York City in 1930. The construction process was a feat of engineering, with over 18,000 individual iron parts assembled using over 2 million rivets. Despite facing challenges such as strong winds and public criticism, the Eiffel Tower was completed in just over two years.\n\n## Interesting Facts about the Eiffel Tower\nThe Eiffel Tower's impressive height and dimensions make it a marvel of modern architecture. It weighs approximately 10,100 tons and has three levels that offer panoramic views of Paris. The tower undergoes regular maintenance and renovations to ensure its structural integrity and preserve its iconic status. It is estimated that over 7 million people visit the Eiffel Tower each year, making it one of the most visited paid monuments in the world.\n\n## Impact of the Eiffel Tower\nThe Eiffel Tower has had a profound impact on tourism and the economy of Paris. It attracts visitors from around the globe who come to admire its beauty and learn about its history. The tower also holds cultural and historical significance as a symbol of French national pride and innovation. Its image is often used to promote tourism and represent the city of Paris in various media and marketing campaigns.\n\n## Call to Action\nWhether you are a history enthusiast, an architecture student, or a traveler looking to explore iconic landmarks, the Eiffel Tower offers a unique experience that is not to be missed. Plan a visit to this cultural icon or delve deeper into its history through reputable resources and books that provide insights into its construction, significance, and impact on the world.\n\nIn conclusion, the Eiffel Tower stands as a testament to human ingenuity and creativity, captivating audiences with its beauty and historical significance. Its construction and impact on tourism and culture make it a must-visit destination for anyone interested in exploring the wonders of the world. Visit the official website of the Eiffel Tower or read books by renowned authors to learn more about this iconic landmark."
          },
          "metadata": {},
          "execution_count": 24
        }
      ],
      "source": [
        "from IPython.display import Markdown\n",
        "Markdown(result)"
      ]
    },
    {
      "cell_type": "markdown",
      "metadata": {
        "id": "nz-tdir0ahI3"
      },
      "source": [
        "## Try it Yourself\n",
        "\n",
        "- Pass in a topic of your choice and see what the agents come up with!"
      ]
    },
    {
      "cell_type": "code",
      "execution_count": null,
      "metadata": {
        "height": 47,
        "colab": {
          "base_uri": "https://localhost:8080/"
        },
        "id": "KUc3IVVhahI3",
        "outputId": "a18eaa1f-febf-4094-a8dc-3da025af187a"
      },
      "outputs": [
        {
          "output_type": "stream",
          "name": "stdout",
          "text": [
            "\u001b[1m\u001b[95m [DEBUG]: == Working Agent: Content Planner\u001b[00m\n",
            "\u001b[1m\u001b[95m [INFO]: == Starting Task: 1. Prioritize the latest trends, key players, and noteworthy news on Origin of tea.\n",
            "2. Identify the target audience, considering their interests and pain points.\n",
            "3. Develop a detailed content outline including an introduction, key points, and a call to action.\n",
            "4. Include SEO keywords and relevant data or sources.\u001b[00m\n",
            "\n",
            "\n",
            "\u001b[1m> Entering new CrewAgentExecutor chain...\u001b[0m\n",
            "\u001b[32;1m\u001b[1;3mI now can give a great answer\n",
            "\n",
            "Final Answer: \n",
            "\n",
            "Content Plan: Origin of Tea\n",
            "\n",
            "Introduction:\n",
            "- Brief history of tea and its significance in various cultures\n",
            "- Overview of the origins of tea production and consumption\n",
            "\n",
            "Key Points:\n",
            "1. The discovery of tea: Legends and historical accounts of the first tea leaves being brewed\n",
            "2. Early cultivation and trade: The spread of tea cultivation from China to other parts of Asia\n",
            "3. Tea in different cultures: How tea became an integral part of traditions in countries like Japan, India, and England\n",
            "4. Modern tea production: The evolution of tea farming and processing techniques\n",
            "5. Health benefits of tea: The scientific research supporting the positive effects of tea consumption\n",
            "\n",
            "Call to Action:\n",
            "- Encourage readers to explore different types of tea and learn more about their origins\n",
            "- Provide links to reputable tea suppliers and resources for further reading\n",
            "\n",
            "Target Audience:\n",
            "- Tea enthusiasts looking to deepen their knowledge of the origins and history of tea\n",
            "- Health-conscious individuals interested in the health benefits of tea\n",
            "- History buffs curious about the cultural significance of tea in different societies\n",
            "\n",
            "SEO Keywords:\n",
            "- Origin of tea\n",
            "- History of tea\n",
            "- Tea production\n",
            "- Tea cultivation\n",
            "- Health benefits of tea\n",
            "\n",
            "Resources:\n",
            "1. \"The True History of Tea\" by Victor H. Mair and Erling Hoh\n",
            "2. \"For All the Tea in China: How England Stole the World's Favorite Drink and Changed History\" by Sarah Rose\n",
            "3. TeaMuse.com for information on different types of tea and their origins\n",
            "4. MedicalNewsToday.com for research on the health benefits of tea\n",
            "\n",
            "By following this comprehensive content plan, the blog article on the origin of tea will provide valuable information to the target audience while incorporating relevant SEO keywords and reputable resources.\u001b[0m\n",
            "\n",
            "\u001b[1m> Finished chain.\u001b[0m\n",
            "\u001b[1m\u001b[92m [DEBUG]: == [Content Planner] Task output: Content Plan: Origin of Tea\n",
            "\n",
            "Introduction:\n",
            "- Brief history of tea and its significance in various cultures\n",
            "- Overview of the origins of tea production and consumption\n",
            "\n",
            "Key Points:\n",
            "1. The discovery of tea: Legends and historical accounts of the first tea leaves being brewed\n",
            "2. Early cultivation and trade: The spread of tea cultivation from China to other parts of Asia\n",
            "3. Tea in different cultures: How tea became an integral part of traditions in countries like Japan, India, and England\n",
            "4. Modern tea production: The evolution of tea farming and processing techniques\n",
            "5. Health benefits of tea: The scientific research supporting the positive effects of tea consumption\n",
            "\n",
            "Call to Action:\n",
            "- Encourage readers to explore different types of tea and learn more about their origins\n",
            "- Provide links to reputable tea suppliers and resources for further reading\n",
            "\n",
            "Target Audience:\n",
            "- Tea enthusiasts looking to deepen their knowledge of the origins and history of tea\n",
            "- Health-conscious individuals interested in the health benefits of tea\n",
            "- History buffs curious about the cultural significance of tea in different societies\n",
            "\n",
            "SEO Keywords:\n",
            "- Origin of tea\n",
            "- History of tea\n",
            "- Tea production\n",
            "- Tea cultivation\n",
            "- Health benefits of tea\n",
            "\n",
            "Resources:\n",
            "1. \"The True History of Tea\" by Victor H. Mair and Erling Hoh\n",
            "2. \"For All the Tea in China: How England Stole the World's Favorite Drink and Changed History\" by Sarah Rose\n",
            "3. TeaMuse.com for information on different types of tea and their origins\n",
            "4. MedicalNewsToday.com for research on the health benefits of tea\n",
            "\n",
            "By following this comprehensive content plan, the blog article on the origin of tea will provide valuable information to the target audience while incorporating relevant SEO keywords and reputable resources.\n",
            "\n",
            "\u001b[00m\n",
            "\u001b[1m\u001b[95m [DEBUG]: == Working Agent: Content Writer\u001b[00m\n",
            "\u001b[1m\u001b[95m [INFO]: == Starting Task: 1. Use the content plan to craft a compelling blog post on Origin of tea.\n",
            "2. Incorporate SEO keywords naturally.\n",
            "3. Sections/Subtitles are properly named in an engaging manner.\n",
            "4. Ensure the post is structured with an engaging introduction, insightful body, and a summarizing conclusion.\n",
            "5. Proofread for grammatical errors and alignment with the brand's voice.\n",
            "\u001b[00m\n",
            "\n",
            "\n",
            "\u001b[1m> Entering new CrewAgentExecutor chain...\u001b[0m\n",
            "\u001b[32;1m\u001b[1;3mI now can give a great answer\n",
            "\n",
            "Final Answer:\n",
            "\n",
            "# The Fascinating Origins of Tea\n",
            "\n",
            "Tea, a beloved beverage enjoyed by millions around the world, has a rich and storied history that dates back thousands of years. From ancient legends to modern scientific research, the origins of tea are as diverse and intriguing as the cultures that have embraced it. In this blog post, we will delve into the discovery of tea, its early cultivation and trade, its significance in different cultures, the evolution of modern tea production, and the health benefits associated with this beloved drink.\n",
            "\n",
            "## The Discovery of Tea\n",
            "\n",
            "The story of tea's discovery is steeped in legend and historical accounts. One popular legend from China credits Emperor Shen Nong with the accidental discovery of tea around 2737 BC. According to the legend, while boiling water in the garden, some tea leaves fell into the pot, creating a fragrant and refreshing brew. This serendipitous event marked the beginning of tea consumption in China and eventually led to the spread of tea cultivation and trade throughout Asia.\n",
            "\n",
            "## Early Cultivation and Trade\n",
            "\n",
            "Tea cultivation began in China and gradually spread to other parts of Asia, including Japan, India, and Sri Lanka. The Silk Road played a crucial role in the trade of tea, as it was transported along with other valuable goods to distant lands. Tea became a symbol of status and wealth, with different varieties and brewing methods emerging in different regions. The art of tea drinking became an integral part of cultural traditions and social rituals in many societies.\n",
            "\n",
            "## Tea in Different Cultures\n",
            "\n",
            "Tea has played a significant role in shaping the traditions and customs of various cultures around the world. In Japan, the tea ceremony, known as Chanoyu, is a highly ritualized practice that emphasizes harmony, respect, purity, and tranquility. In India, chai tea is a popular beverage made with a blend of spices and milk, enjoyed by people of all ages. In England, afternoon tea became a fashionable social event, with tea served alongside sandwiches, scones, and pastries.\n",
            "\n",
            "## Modern Tea Production\n",
            "\n",
            "In modern times, tea production has evolved with advancements in farming and processing techniques. Sustainable practices are being implemented to ensure the quality and environmental impact of tea cultivation. From hand-picked leaves to mechanized processing, the art of tea-making continues to thrive in tea-growing regions around the world. The demand for high-quality tea has led to innovations in packaging, marketing, and distribution, making tea more accessible to a global audience.\n",
            "\n",
            "## Health Benefits of Tea\n",
            "\n",
            "Beyond its cultural significance, tea has been praised for its numerous health benefits. Scientific research has shown that tea contains antioxidants and other compounds that may help reduce the risk of chronic diseases such as heart disease, cancer, and diabetes. Regular consumption of tea has been linked to improved mental alertness, weight management, and overall well-being. Whether enjoyed hot or cold, tea remains a popular choice for health-conscious individuals seeking a flavorful and beneficial beverage.\n",
            "\n",
            "In conclusion, the origin of tea is a fascinating journey that spans centuries and continents. From its mythical beginnings to its modern-day popularity, tea continues to captivate and inspire people around the world. By exploring the diverse cultures, traditions, and health benefits associated with tea, we can gain a deeper appreciation for this timeless beverage. So, why not brew a cup of your favorite tea, sit back, and savor the history and flavors that have made tea a beloved drink for generations.\n",
            "\n",
            "*Join us on a tea-tasting adventure and discover the origins of your favorite brews. Visit TeaMuse.com for a wide selection of teas and explore the health benefits of tea at MedicalNewsToday.com. Cheers to the wonderful world of tea!*\u001b[0m\n",
            "\n",
            "\u001b[1m> Finished chain.\u001b[0m\n",
            "\u001b[1m\u001b[92m [DEBUG]: == [Content Writer] Task output: # The Fascinating Origins of Tea\n",
            "\n",
            "Tea, a beloved beverage enjoyed by millions around the world, has a rich and storied history that dates back thousands of years. From ancient legends to modern scientific research, the origins of tea are as diverse and intriguing as the cultures that have embraced it. In this blog post, we will delve into the discovery of tea, its early cultivation and trade, its significance in different cultures, the evolution of modern tea production, and the health benefits associated with this beloved drink.\n",
            "\n",
            "## The Discovery of Tea\n",
            "\n",
            "The story of tea's discovery is steeped in legend and historical accounts. One popular legend from China credits Emperor Shen Nong with the accidental discovery of tea around 2737 BC. According to the legend, while boiling water in the garden, some tea leaves fell into the pot, creating a fragrant and refreshing brew. This serendipitous event marked the beginning of tea consumption in China and eventually led to the spread of tea cultivation and trade throughout Asia.\n",
            "\n",
            "## Early Cultivation and Trade\n",
            "\n",
            "Tea cultivation began in China and gradually spread to other parts of Asia, including Japan, India, and Sri Lanka. The Silk Road played a crucial role in the trade of tea, as it was transported along with other valuable goods to distant lands. Tea became a symbol of status and wealth, with different varieties and brewing methods emerging in different regions. The art of tea drinking became an integral part of cultural traditions and social rituals in many societies.\n",
            "\n",
            "## Tea in Different Cultures\n",
            "\n",
            "Tea has played a significant role in shaping the traditions and customs of various cultures around the world. In Japan, the tea ceremony, known as Chanoyu, is a highly ritualized practice that emphasizes harmony, respect, purity, and tranquility. In India, chai tea is a popular beverage made with a blend of spices and milk, enjoyed by people of all ages. In England, afternoon tea became a fashionable social event, with tea served alongside sandwiches, scones, and pastries.\n",
            "\n",
            "## Modern Tea Production\n",
            "\n",
            "In modern times, tea production has evolved with advancements in farming and processing techniques. Sustainable practices are being implemented to ensure the quality and environmental impact of tea cultivation. From hand-picked leaves to mechanized processing, the art of tea-making continues to thrive in tea-growing regions around the world. The demand for high-quality tea has led to innovations in packaging, marketing, and distribution, making tea more accessible to a global audience.\n",
            "\n",
            "## Health Benefits of Tea\n",
            "\n",
            "Beyond its cultural significance, tea has been praised for its numerous health benefits. Scientific research has shown that tea contains antioxidants and other compounds that may help reduce the risk of chronic diseases such as heart disease, cancer, and diabetes. Regular consumption of tea has been linked to improved mental alertness, weight management, and overall well-being. Whether enjoyed hot or cold, tea remains a popular choice for health-conscious individuals seeking a flavorful and beneficial beverage.\n",
            "\n",
            "In conclusion, the origin of tea is a fascinating journey that spans centuries and continents. From its mythical beginnings to its modern-day popularity, tea continues to captivate and inspire people around the world. By exploring the diverse cultures, traditions, and health benefits associated with tea, we can gain a deeper appreciation for this timeless beverage. So, why not brew a cup of your favorite tea, sit back, and savor the history and flavors that have made tea a beloved drink for generations.\n",
            "\n",
            "*Join us on a tea-tasting adventure and discover the origins of your favorite brews. Visit TeaMuse.com for a wide selection of teas and explore the health benefits of tea at MedicalNewsToday.com. Cheers to the wonderful world of tea!*\n",
            "\n",
            "\u001b[00m\n",
            "\u001b[1m\u001b[95m [DEBUG]: == Working Agent: Editor\u001b[00m\n",
            "\u001b[1m\u001b[95m [INFO]: == Starting Task: Proofread the given blog post for grammatical errors and alignment with the brand's voice.\u001b[00m\n",
            "\n",
            "\n",
            "\u001b[1m> Entering new CrewAgentExecutor chain...\u001b[0m\n",
            "\u001b[32;1m\u001b[1;3mI now can give a great answer\n",
            "\n",
            "Final Answer:\n",
            "# The Fascinating Origins of Tea\n",
            "\n",
            "Tea, a beloved beverage enjoyed by millions around the world, has a rich and storied history that dates back thousands of years. From ancient legends to modern scientific research, the origins of tea are as diverse and intriguing as the cultures that have embraced it. In this blog post, we will delve into the discovery of tea, its early cultivation and trade, its significance in different cultures, the evolution of modern tea production, and the health benefits associated with this beloved drink.\n",
            "\n",
            "## The Discovery of Tea\n",
            "\n",
            "The story of tea's discovery is steeped in legend and historical accounts. One popular legend from China credits Emperor Shen Nong with the accidental discovery of tea around 2737 BC. According to the legend, while boiling water in the garden, some tea leaves fell into the pot, creating a fragrant and refreshing brew. This serendipitous event marked the beginning of tea consumption in China and eventually led to the spread of tea cultivation and trade throughout Asia.\n",
            "\n",
            "## Early Cultivation and Trade\n",
            "\n",
            "Tea cultivation began in China and gradually spread to other parts of Asia, including Japan, India, and Sri Lanka. The Silk Road played a crucial role in the trade of tea, as it was transported along with other valuable goods to distant lands. Tea became a symbol of status and wealth, with different varieties and brewing methods emerging in different regions. The art of tea drinking became an integral part of cultural traditions and social rituals in many societies.\n",
            "\n",
            "## Tea in Different Cultures\n",
            "\n",
            "Tea has played a significant role in shaping the traditions and customs of various cultures around the world. In Japan, the tea ceremony, known as Chanoyu, is a highly ritualized practice that emphasizes harmony, respect, purity, and tranquility. In India, chai tea is a popular beverage made with a blend of spices and milk, enjoyed by people of all ages. In England, afternoon tea became a fashionable social event, with tea served alongside sandwiches, scones, and pastries.\n",
            "\n",
            "## Modern Tea Production\n",
            "\n",
            "In modern times, tea production has evolved with advancements in farming and processing techniques. Sustainable practices are being implemented to ensure the quality and environmental impact of tea cultivation. From hand-picked leaves to mechanized processing, the art of tea-making continues to thrive in tea-growing regions around the world. The demand for high-quality tea has led to innovations in packaging, marketing, and distribution, making tea more accessible to a global audience.\n",
            "\n",
            "## Health Benefits of Tea\n",
            "\n",
            "Beyond its cultural significance, tea has been praised for its numerous health benefits. Scientific research has shown that tea contains antioxidants and other compounds that may help reduce the risk of chronic diseases such as heart disease, cancer, and diabetes. Regular consumption of tea has been linked to improved mental alertness, weight management, and overall well-being. Whether enjoyed hot or cold, tea remains a popular choice for health-conscious individuals seeking a flavorful and beneficial beverage.\n",
            "\n",
            "In conclusion, the origin of tea is a fascinating journey that spans centuries and continents. From its mythical beginnings to its modern-day popularity, tea continues to captivate and inspire people around the world. By exploring the diverse cultures, traditions, and health benefits associated with tea, we can gain a deeper appreciation for this timeless beverage. So, why not brew a cup of your favorite tea, sit back, and savor the history and flavors that have made tea a beloved drink for generations.\n",
            "\n",
            "*Join us on a tea-tasting adventure and discover the origins of your favorite brews. Visit TeaMuse.com for a wide selection of teas and explore the health benefits of tea at MedicalNewsToday.com. Cheers to the wonderful world of tea!*\u001b[0m\n",
            "\n",
            "\u001b[1m> Finished chain.\u001b[0m\n",
            "\u001b[1m\u001b[92m [DEBUG]: == [Editor] Task output: # The Fascinating Origins of Tea\n",
            "\n",
            "Tea, a beloved beverage enjoyed by millions around the world, has a rich and storied history that dates back thousands of years. From ancient legends to modern scientific research, the origins of tea are as diverse and intriguing as the cultures that have embraced it. In this blog post, we will delve into the discovery of tea, its early cultivation and trade, its significance in different cultures, the evolution of modern tea production, and the health benefits associated with this beloved drink.\n",
            "\n",
            "## The Discovery of Tea\n",
            "\n",
            "The story of tea's discovery is steeped in legend and historical accounts. One popular legend from China credits Emperor Shen Nong with the accidental discovery of tea around 2737 BC. According to the legend, while boiling water in the garden, some tea leaves fell into the pot, creating a fragrant and refreshing brew. This serendipitous event marked the beginning of tea consumption in China and eventually led to the spread of tea cultivation and trade throughout Asia.\n",
            "\n",
            "## Early Cultivation and Trade\n",
            "\n",
            "Tea cultivation began in China and gradually spread to other parts of Asia, including Japan, India, and Sri Lanka. The Silk Road played a crucial role in the trade of tea, as it was transported along with other valuable goods to distant lands. Tea became a symbol of status and wealth, with different varieties and brewing methods emerging in different regions. The art of tea drinking became an integral part of cultural traditions and social rituals in many societies.\n",
            "\n",
            "## Tea in Different Cultures\n",
            "\n",
            "Tea has played a significant role in shaping the traditions and customs of various cultures around the world. In Japan, the tea ceremony, known as Chanoyu, is a highly ritualized practice that emphasizes harmony, respect, purity, and tranquility. In India, chai tea is a popular beverage made with a blend of spices and milk, enjoyed by people of all ages. In England, afternoon tea became a fashionable social event, with tea served alongside sandwiches, scones, and pastries.\n",
            "\n",
            "## Modern Tea Production\n",
            "\n",
            "In modern times, tea production has evolved with advancements in farming and processing techniques. Sustainable practices are being implemented to ensure the quality and environmental impact of tea cultivation. From hand-picked leaves to mechanized processing, the art of tea-making continues to thrive in tea-growing regions around the world. The demand for high-quality tea has led to innovations in packaging, marketing, and distribution, making tea more accessible to a global audience.\n",
            "\n",
            "## Health Benefits of Tea\n",
            "\n",
            "Beyond its cultural significance, tea has been praised for its numerous health benefits. Scientific research has shown that tea contains antioxidants and other compounds that may help reduce the risk of chronic diseases such as heart disease, cancer, and diabetes. Regular consumption of tea has been linked to improved mental alertness, weight management, and overall well-being. Whether enjoyed hot or cold, tea remains a popular choice for health-conscious individuals seeking a flavorful and beneficial beverage.\n",
            "\n",
            "In conclusion, the origin of tea is a fascinating journey that spans centuries and continents. From its mythical beginnings to its modern-day popularity, tea continues to captivate and inspire people around the world. By exploring the diverse cultures, traditions, and health benefits associated with tea, we can gain a deeper appreciation for this timeless beverage. So, why not brew a cup of your favorite tea, sit back, and savor the history and flavors that have made tea a beloved drink for generations.\n",
            "\n",
            "*Join us on a tea-tasting adventure and discover the origins of your favorite brews. Visit TeaMuse.com for a wide selection of teas and explore the health benefits of tea at MedicalNewsToday.com. Cheers to the wonderful world of tea!*\n",
            "\n",
            "\u001b[00m\n"
          ]
        }
      ],
      "source": [
        "topic = \"Origin of tea\"\n",
        "result = crew.kickoff(inputs={\"topic\": topic})"
      ]
    },
    {
      "cell_type": "code",
      "execution_count": null,
      "metadata": {
        "height": 30,
        "colab": {
          "base_uri": "https://localhost:8080/",
          "height": 793
        },
        "id": "KwPZOhhDahI3",
        "outputId": "5498edc1-11ae-4d53-b8f2-78a18b188a51"
      },
      "outputs": [
        {
          "output_type": "execute_result",
          "data": {
            "text/plain": [
              "<IPython.core.display.Markdown object>"
            ],
            "text/markdown": "# The Fascinating Origins of Tea\n\nTea, a beloved beverage enjoyed by millions around the world, has a rich and storied history that dates back thousands of years. From ancient legends to modern scientific research, the origins of tea are as diverse and intriguing as the cultures that have embraced it. In this blog post, we will delve into the discovery of tea, its early cultivation and trade, its significance in different cultures, the evolution of modern tea production, and the health benefits associated with this beloved drink.\n\n## The Discovery of Tea\n\nThe story of tea's discovery is steeped in legend and historical accounts. One popular legend from China credits Emperor Shen Nong with the accidental discovery of tea around 2737 BC. According to the legend, while boiling water in the garden, some tea leaves fell into the pot, creating a fragrant and refreshing brew. This serendipitous event marked the beginning of tea consumption in China and eventually led to the spread of tea cultivation and trade throughout Asia.\n\n## Early Cultivation and Trade\n\nTea cultivation began in China and gradually spread to other parts of Asia, including Japan, India, and Sri Lanka. The Silk Road played a crucial role in the trade of tea, as it was transported along with other valuable goods to distant lands. Tea became a symbol of status and wealth, with different varieties and brewing methods emerging in different regions. The art of tea drinking became an integral part of cultural traditions and social rituals in many societies.\n\n## Tea in Different Cultures\n\nTea has played a significant role in shaping the traditions and customs of various cultures around the world. In Japan, the tea ceremony, known as Chanoyu, is a highly ritualized practice that emphasizes harmony, respect, purity, and tranquility. In India, chai tea is a popular beverage made with a blend of spices and milk, enjoyed by people of all ages. In England, afternoon tea became a fashionable social event, with tea served alongside sandwiches, scones, and pastries.\n\n## Modern Tea Production\n\nIn modern times, tea production has evolved with advancements in farming and processing techniques. Sustainable practices are being implemented to ensure the quality and environmental impact of tea cultivation. From hand-picked leaves to mechanized processing, the art of tea-making continues to thrive in tea-growing regions around the world. The demand for high-quality tea has led to innovations in packaging, marketing, and distribution, making tea more accessible to a global audience.\n\n## Health Benefits of Tea\n\nBeyond its cultural significance, tea has been praised for its numerous health benefits. Scientific research has shown that tea contains antioxidants and other compounds that may help reduce the risk of chronic diseases such as heart disease, cancer, and diabetes. Regular consumption of tea has been linked to improved mental alertness, weight management, and overall well-being. Whether enjoyed hot or cold, tea remains a popular choice for health-conscious individuals seeking a flavorful and beneficial beverage.\n\nIn conclusion, the origin of tea is a fascinating journey that spans centuries and continents. From its mythical beginnings to its modern-day popularity, tea continues to captivate and inspire people around the world. By exploring the diverse cultures, traditions, and health benefits associated with tea, we can gain a deeper appreciation for this timeless beverage. So, why not brew a cup of your favorite tea, sit back, and savor the history and flavors that have made tea a beloved drink for generations.\n\n*Join us on a tea-tasting adventure and discover the origins of your favorite brews. Visit TeaMuse.com for a wide selection of teas and explore the health benefits of tea at MedicalNewsToday.com. Cheers to the wonderful world of tea!*"
          },
          "metadata": {},
          "execution_count": 26
        }
      ],
      "source": [
        "Markdown(result)"
      ]
    },
    {
      "cell_type": "markdown",
      "metadata": {
        "id": "QZGv9LwlahI3"
      },
      "source": [
        "<a name='1'></a>\n",
        " ## Other Popular Models as LLM for your Agents"
      ]
    },
    {
      "cell_type": "markdown",
      "metadata": {
        "id": "q3nakcF9ahI3"
      },
      "source": [
        "#### Hugging Face (HuggingFaceHub endpoint)\n",
        "\n",
        "```Python\n",
        "from langchain_community.llms import HuggingFaceHub\n",
        "\n",
        "llm = HuggingFaceHub(\n",
        "    repo_id=\"HuggingFaceH4/zephyr-7b-beta\",\n",
        "    huggingfacehub_api_token=\"<HF_TOKEN_HERE>\",\n",
        "    task=\"text-generation\",\n",
        ")\n",
        "\n",
        "### you will pass \"llm\" to your agent function\n",
        "```"
      ]
    },
    {
      "cell_type": "markdown",
      "metadata": {
        "id": "WxhVgX9qahI3"
      },
      "source": [
        "#### Mistral API\n",
        "\n",
        "```Python\n",
        "OPENAI_API_KEY=your-mistral-api-key\n",
        "OPENAI_API_BASE=https://api.mistral.ai/v1\n",
        "OPENAI_MODEL_NAME=\"mistral-small\"\n",
        "```"
      ]
    },
    {
      "cell_type": "markdown",
      "metadata": {
        "id": "MhZjcJFvahI3"
      },
      "source": [
        "#### Cohere\n",
        "\n",
        "```Python\n",
        "from langchain_community.chat_models import ChatCohere\n",
        "# Initialize language model\n",
        "os.environ[\"COHERE_API_KEY\"] = \"your-cohere-api-key\"\n",
        "llm = ChatCohere()\n",
        "\n",
        "### you will pass \"llm\" to your agent function\n",
        "```"
      ]
    },
    {
      "cell_type": "markdown",
      "metadata": {
        "id": "N0QDU3WTahI3"
      },
      "source": [
        "### For using Llama locally with Ollama and more, checkout the crewAI documentation on [Connecting to any LLM](https://docs.crewai.com/how-to/LLM-Connections/)."
      ]
    },
    {
      "cell_type": "code",
      "execution_count": null,
      "metadata": {
        "height": 30,
        "id": "GDpkrLINahI3"
      },
      "outputs": [],
      "source": []
    },
    {
      "cell_type": "code",
      "execution_count": null,
      "metadata": {
        "height": 30,
        "id": "dHRzvagAahI3"
      },
      "outputs": [],
      "source": []
    },
    {
      "cell_type": "code",
      "execution_count": null,
      "metadata": {
        "height": 30,
        "id": "wZ0BUW0nahI4"
      },
      "outputs": [],
      "source": []
    },
    {
      "cell_type": "code",
      "metadata": {
        "id": "db589cf4"
      },
      "source": [
        "import os\n",
        "from google.colab import userdata\n",
        "\n",
        "# Define a function to get the OpenAI API key\n",
        "def get_openai_api_key():\n",
        "  \"\"\"Gets the OpenAI API key from Colab's user data.\"\"\"\n",
        "  try:\n",
        "    return userdata.get(\"OPENAI_API_KEY\")\n",
        "  except KeyError:\n",
        "    print(\"Warning: OPENAI_API_KEY not found in Colab secrets. Please add it to the Secrets tab.\")\n",
        "    return None\n",
        "\n",
        "openai_api_key = get_openai_api_key()\n",
        "os.environ[\"OPENAI_MODEL_NAME\"] = 'gpt-3.5-turbo'\n",
        "\n",
        "# You can add your API key to Colab's Secrets tab on the left pane.\n",
        "# Name the secret 'OPENAI_API_KEY'"
      ],
      "execution_count": null,
      "outputs": []
    }
  ],
  "metadata": {
    "colab": {
      "gpuType": "T4",
      "provenance": [],
      "include_colab_link": true
    },
    "kernelspec": {
      "display_name": "Python 3 (ipykernel)",
      "language": "python",
      "name": "python3"
    },
    "language_info": {
      "codemirror_mode": {
        "name": "ipython",
        "version": 3
      },
      "file_extension": ".py",
      "mimetype": "text/x-python",
      "name": "python",
      "nbconvert_exporter": "python",
      "pygments_lexer": "ipython3",
      "version": "3.11.9"
    }
  },
  "nbformat": 4,
  "nbformat_minor": 0
}